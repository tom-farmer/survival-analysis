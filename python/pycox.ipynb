{
 "cells": [
  {
   "cell_type": "markdown",
   "id": "d25c6fee",
   "metadata": {},
   "source": [
    "# PyCox\n",
    "## Libraries and Data\n",
    "This notebook uses the surv_nn environment\n",
    "\n",
    "Recreating this introduction to pycox\n",
    " - https://nbviewer.org/github/havakv/pycox/blob/master/examples/01_introduction.ipynb\n",
    " - https://towardsdatascience.com/how-to-implement-random-forest-svm-and-gradient-boosted-models-for-time-to-event-analyses-5d79d8153bcd\n",
    " - https://towardsdatascience.com/how-to-implement-deep-neural-networks-for-time-to-event-analyses-9aa0aeac4717\n",
    " \n"
   ]
  },
  {
   "cell_type": "code",
   "execution_count": 1,
   "id": "ad98b3dc",
   "metadata": {},
   "outputs": [],
   "source": [
    "import torch\n",
    "import lifelines\n",
    "import numpy as np\n",
    "import torchtuples as tt \n",
    "import matplotlib.pyplot as plt\n",
    "\n",
    "from sklearn.preprocessing import StandardScaler\n",
    "\n",
    "from pycox.datasets import metabric\n",
    "from pycox.models import LogisticHazard\n",
    "from pycox.evaluation import EvalSurv"
   ]
  },
  {
   "cell_type": "code",
   "execution_count": 2,
   "id": "0d40d4e9",
   "metadata": {},
   "outputs": [],
   "source": [
    "np.random.seed(1234)\n",
    "_ = torch.manual_seed(123)"
   ]
  },
  {
   "cell_type": "code",
   "execution_count": 3,
   "id": "3fada9dc",
   "metadata": {},
   "outputs": [],
   "source": [
    "df = metabric.read_df()"
   ]
  },
  {
   "cell_type": "code",
   "execution_count": null,
   "id": "66fd78bb",
   "metadata": {},
   "outputs": [],
   "source": [
    "df.shape, df.columns"
   ]
  },
  {
   "cell_type": "code",
   "execution_count": null,
   "id": "5365c5ef",
   "metadata": {},
   "outputs": [],
   "source": [
    "df.duration.hist()"
   ]
  },
  {
   "cell_type": "code",
   "execution_count": null,
   "id": "3446e863",
   "metadata": {},
   "outputs": [],
   "source": [
    "df.event.hist()"
   ]
  },
  {
   "cell_type": "code",
   "execution_count": null,
   "id": "77acea4e",
   "metadata": {},
   "outputs": [],
   "source": [
    "df_train = metabric.read_df()\n",
    "df_test = df_train.sample(frac=0.2)\n",
    "df_train = df_train.drop(df_test.index)\n",
    "df_val = df_train.sample(frac=0.2)\n",
    "df_train = df_train.drop(df_val.index)"
   ]
  },
  {
   "cell_type": "code",
   "execution_count": null,
   "id": "79932cfe",
   "metadata": {},
   "outputs": [],
   "source": [
    "df_train.shape, df_test.shape, df_val.shape"
   ]
  },
  {
   "cell_type": "code",
   "execution_count": null,
   "id": "bb4dcba2",
   "metadata": {},
   "outputs": [],
   "source": [
    "cols_standardize = ['x0', 'x1', 'x2', 'x3', 'x8']\n",
    "cols_leave = ['x4', 'x5', 'x6', 'x7']"
   ]
  },
  {
   "cell_type": "code",
   "execution_count": null,
   "id": "0ede3f44",
   "metadata": {},
   "outputs": [],
   "source": [
    "standardize = [([col], StandardScaler()) for col in cols_standardize]\n"
   ]
  },
  {
   "cell_type": "code",
   "execution_count": null,
   "id": "7fe9f9af",
   "metadata": {},
   "outputs": [],
   "source": []
  },
  {
   "cell_type": "code",
   "execution_count": null,
   "id": "1456f31a",
   "metadata": {},
   "outputs": [],
   "source": [
    "for row, scaler in standardize:\n",
    "    df_train[row] = scaler.fit_transform(df_train[row])\n",
    "    df_test[row] = scaler.transform(df_test[row])\n",
    "    df_val[row] = scaler.transform(df_val[row])"
   ]
  },
  {
   "cell_type": "code",
   "execution_count": null,
   "id": "031630c5",
   "metadata": {},
   "outputs": [],
   "source": [
    "x_train = df_train[cols_standardize + cols_leave].astype('float32').to_numpy()\n",
    "x_test = df_test[cols_standardize + cols_leave].astype('float32').to_numpy()\n",
    "x_val = df_val[cols_standardize + cols_leave].astype('float32').to_numpy()"
   ]
  },
  {
   "cell_type": "markdown",
   "id": "bf0a64c7",
   "metadata": {},
   "source": [
    "## Label Transforms"
   ]
  },
  {
   "cell_type": "code",
   "execution_count": null,
   "id": "a63e66b4",
   "metadata": {},
   "outputs": [],
   "source": [
    "num_durations = 10\n",
    "\n",
    "labtrans = LogisticHazard.label_transform(num_durations)\n",
    "# labtrans = PMF.label_transform(num_durations)\n",
    "# labtrans = DeepHitSingle.label_transform(num_durations)\n",
    "\n",
    "get_target = lambda df: (df['duration'].values, df['event'].values)\n",
    "y_train = labtrans.fit_transform(*get_target(df_train))\n",
    "y_val = labtrans.transform(*get_target(df_val))\n",
    "\n",
    "train = (x_train, y_train)\n",
    "val = (x_val, y_val)\n",
    "\n",
    "# We don't need to transform the test labels\n",
    "durations_test, events_test = get_target(df_test)"
   ]
  },
  {
   "cell_type": "markdown",
   "id": "f2e2bc00",
   "metadata": {},
   "source": [
    "## Model"
   ]
  },
  {
   "cell_type": "code",
   "execution_count": null,
   "id": "17aa3078",
   "metadata": {},
   "outputs": [],
   "source": [
    "in_features = x_train.shape[1]\n",
    "num_nodes = [32, 32]\n",
    "out_features = labtrans.out_features\n",
    "batch_norm = True\n",
    "dropout = 0.1\n",
    "\n",
    "net = torch.nn.Sequential(\n",
    "    torch.nn.Linear(in_features, 32),\n",
    "     torch.nn.ReLU(),\n",
    "     torch.nn.BatchNorm1d(32),\n",
    "     torch.nn.Dropout(0.1),\n",
    "    \n",
    "     torch.nn.Linear(32, 32),\n",
    "     torch.nn.ReLU(),\n",
    "     torch.nn.BatchNorm1d(32),\n",
    "     torch.nn.Dropout(0.1),\n",
    "   \n",
    "     torch.nn.Linear(32, out_features)\n",
    ")"
   ]
  },
  {
   "cell_type": "code",
   "execution_count": null,
   "id": "9ecf203a",
   "metadata": {},
   "outputs": [],
   "source": [
    "net = tt.practical.MLPVanilla(in_features, num_nodes, out_features, batch_norm, dropout)"
   ]
  },
  {
   "cell_type": "code",
   "execution_count": null,
   "id": "47e1a333",
   "metadata": {},
   "outputs": [],
   "source": [
    "model = LogisticHazard(net, tt.optim.Adam(0.01), duration_index=labtrans.cuts)\n"
   ]
  },
  {
   "cell_type": "code",
   "execution_count": null,
   "id": "72680bfe",
   "metadata": {},
   "outputs": [],
   "source": [
    "batch_size = 256 #256\n",
    "epochs = 100\n",
    "callbacks = [tt.cb.EarlyStopping()]"
   ]
  },
  {
   "cell_type": "code",
   "execution_count": null,
   "id": "31f325c1",
   "metadata": {
    "scrolled": true
   },
   "outputs": [],
   "source": [
    "log = model.fit(x_train, y_train, batch_size, epochs, callbacks, val_data=val) # , callbacks, val_data=val)"
   ]
  },
  {
   "cell_type": "code",
   "execution_count": null,
   "id": "17df39d6",
   "metadata": {},
   "outputs": [],
   "source": [
    "log.plot()"
   ]
  },
  {
   "cell_type": "code",
   "execution_count": null,
   "id": "f2415f65",
   "metadata": {},
   "outputs": [],
   "source": [
    "val"
   ]
  },
  {
   "cell_type": "code",
   "execution_count": null,
   "id": "919ac7ec",
   "metadata": {},
   "outputs": [],
   "source": [
    "x_train.shape"
   ]
  },
  {
   "cell_type": "markdown",
   "id": "01a4d5bc",
   "metadata": {},
   "source": [
    "## Prediction"
   ]
  },
  {
   "cell_type": "code",
   "execution_count": null,
   "id": "253c22f4",
   "metadata": {},
   "outputs": [],
   "source": [
    "surv = model.predict_surv_df(x_test)"
   ]
  },
  {
   "cell_type": "code",
   "execution_count": null,
   "id": "4f136b90",
   "metadata": {},
   "outputs": [],
   "source": [
    "surv.iloc[:, :5].plot(drawstyle='steps-post')\n",
    "plt.ylabel('S(t | x)')\n",
    "_ = plt.xlabel('Time')"
   ]
  },
  {
   "cell_type": "code",
   "execution_count": null,
   "id": "3248cd40",
   "metadata": {},
   "outputs": [],
   "source": [
    "surv = model.interpolate(10).predict_surv_df(x_test)"
   ]
  },
  {
   "cell_type": "code",
   "execution_count": null,
   "id": "1db358e3",
   "metadata": {},
   "outputs": [],
   "source": [
    "surv.iloc[:, :5].plot(drawstyle='steps-post')\n",
    "plt.ylabel('S(t | x)')\n",
    "_ = plt.xlabel('Time')"
   ]
  },
  {
   "cell_type": "code",
   "execution_count": null,
   "id": "c71944c4",
   "metadata": {},
   "outputs": [],
   "source": [
    "ev = EvalSurv(surv, durations_test, events_test, censor_surv='km')"
   ]
  },
  {
   "cell_type": "code",
   "execution_count": null,
   "id": "dd5d471d",
   "metadata": {},
   "outputs": [],
   "source": [
    "ev.concordance_td('antolini')"
   ]
  },
  {
   "cell_type": "code",
   "execution_count": null,
   "id": "963e6413",
   "metadata": {},
   "outputs": [],
   "source": []
  },
  {
   "cell_type": "markdown",
   "id": "b923235e",
   "metadata": {},
   "source": [
    "# Comparison to CPH"
   ]
  },
  {
   "cell_type": "code",
   "execution_count": null,
   "id": "6a5bc74a",
   "metadata": {},
   "outputs": [],
   "source": [
    "cph = lifelines.CoxPHFitter().fit(df_train, 'duration', 'event')\n",
    "cph.print_summary()"
   ]
  },
  {
   "cell_type": "code",
   "execution_count": null,
   "id": "12fda296",
   "metadata": {},
   "outputs": [],
   "source": [
    "cph.score(df_test, scoring_method = \"concordance_index\")"
   ]
  },
  {
   "cell_type": "markdown",
   "id": "1df30097",
   "metadata": {},
   "source": [
    "# Next Steps\n",
    "\n",
    " - Add embedding layers\n",
    " - train on gpu\n",
    " - try other survival model types?"
   ]
  },
  {
   "cell_type": "code",
   "execution_count": null,
   "id": "b7d8a2a9",
   "metadata": {},
   "outputs": [],
   "source": []
  }
 ],
 "metadata": {
  "kernelspec": {
   "display_name": "Python 3 (ipykernel)",
   "language": "python",
   "name": "python3"
  },
  "language_info": {
   "codemirror_mode": {
    "name": "ipython",
    "version": 3
   },
   "file_extension": ".py",
   "mimetype": "text/x-python",
   "name": "python",
   "nbconvert_exporter": "python",
   "pygments_lexer": "ipython3",
   "version": "3.7.13"
  },
  "toc": {
   "base_numbering": 1,
   "nav_menu": {},
   "number_sections": true,
   "sideBar": true,
   "skip_h1_title": false,
   "title_cell": "Table of Contents",
   "title_sidebar": "Contents",
   "toc_cell": false,
   "toc_position": {
    "height": "calc(100% - 180px)",
    "left": "10px",
    "top": "150px",
    "width": "288px"
   },
   "toc_section_display": true,
   "toc_window_display": true
  }
 },
 "nbformat": 4,
 "nbformat_minor": 5
}
