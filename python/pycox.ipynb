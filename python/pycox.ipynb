{
 "cells": [
  {
   "cell_type": "markdown",
   "id": "d25c6fee",
   "metadata": {},
   "source": [
    "# PyCox\n",
    "This notebook uses the surv_nn environment\n",
    "\n",
    "Recreating this introduction to pycox\n",
    " - https://nbviewer.org/github/havakv/pycox/blob/master/examples/01_introduction.ipynb\n"
   ]
  },
  {
   "cell_type": "code",
   "execution_count": 1,
   "id": "ad98b3dc",
   "metadata": {},
   "outputs": [],
   "source": [
    "import torch\n",
    "import numpy as np\n",
    "import torchtuples as tt \n",
    "import matplotlib.pyplot as plt\n",
    "\n",
    "from sklearn.preprocessing import StandardScaler\n",
    "\n",
    "from pycox.datasets import metabric\n",
    "from pycox.models import LogisticHazard\n",
    "from pycox.evaluation import EvalSurv"
   ]
  },
  {
   "cell_type": "code",
   "execution_count": 2,
   "id": "0d40d4e9",
   "metadata": {},
   "outputs": [],
   "source": [
    "np.random.seed(1234)\n",
    "_ = torch.manual_seed(123)"
   ]
  },
  {
   "cell_type": "code",
   "execution_count": 3,
   "id": "77acea4e",
   "metadata": {},
   "outputs": [],
   "source": [
    "df_train = metabric.read_df()\n",
    "df_test = df_train.sample(frac=0.2)\n",
    "df_train = df_train.drop(df_test.index)\n",
    "df_val = df_train.sample(frac=0.2)\n",
    "df_train = df_train.drop(df_val.index)"
   ]
  },
  {
   "cell_type": "code",
   "execution_count": 4,
   "id": "bb4dcba2",
   "metadata": {},
   "outputs": [],
   "source": [
    "cols_standardize = ['x0', 'x1', 'x2', 'x3', 'x8']\n",
    "cols_leave = ['x4', 'x5', 'x6', 'x7']"
   ]
  },
  {
   "cell_type": "code",
   "execution_count": 5,
   "id": "0ede3f44",
   "metadata": {},
   "outputs": [],
   "source": [
    "standardize = [([col], StandardScaler()) for col in cols_standardize]\n",
    "leave = [(col, None) for col in cols_leave]"
   ]
  },
  {
   "cell_type": "code",
   "execution_count": 6,
   "id": "1456f31a",
   "metadata": {},
   "outputs": [],
   "source": [
    "for row, scaler in standardize:\n",
    "    df_train[row] = scaler.fit_transform(df_train[row])\n",
    "    df_test[row] = scaler.transform(df_test[row])\n",
    "    df_val[row] = scaler.transform(df_val[row])\n"
   ]
  },
  {
   "cell_type": "code",
   "execution_count": 7,
   "id": "031630c5",
   "metadata": {},
   "outputs": [],
   "source": [
    "x_train = df_train[cols_standardize + cols_leave].astype('float32').to_numpy()\n",
    "x_test = df_test[cols_standardize + cols_leave].astype('float32').to_numpy()\n",
    "x_val = df_val[cols_standardize + cols_leave].astype('float32').to_numpy()"
   ]
  },
  {
   "cell_type": "markdown",
   "id": "bf0a64c7",
   "metadata": {},
   "source": [
    "## Label Transforms"
   ]
  },
  {
   "cell_type": "code",
   "execution_count": 8,
   "id": "a63e66b4",
   "metadata": {},
   "outputs": [],
   "source": [
    "num_durations = 10\n",
    "\n",
    "labtrans = LogisticHazard.label_transform(num_durations)\n",
    "# labtrans = PMF.label_transform(num_durations)\n",
    "# labtrans = DeepHitSingle.label_transform(num_durations)\n",
    "\n",
    "get_target = lambda df: (df['duration'].values, df['event'].values)\n",
    "y_train = labtrans.fit_transform(*get_target(df_train))\n",
    "y_val = labtrans.transform(*get_target(df_val))\n",
    "\n",
    "train = (x_train, y_train)\n",
    "val = (x_val, y_val)\n",
    "\n",
    "# We don't need to transform the test labels\n",
    "durations_test, events_test = get_target(df_test)"
   ]
  },
  {
   "cell_type": "markdown",
   "id": "f2e2bc00",
   "metadata": {},
   "source": [
    "## Model"
   ]
  },
  {
   "cell_type": "code",
   "execution_count": 9,
   "id": "17aa3078",
   "metadata": {},
   "outputs": [],
   "source": [
    "in_features = x_train.shape[1]\n",
    "num_nodes = [32, 32]\n",
    "out_features = labtrans.out_features\n",
    "batch_norm = True\n",
    "dropout = 0.1\n",
    "\n",
    "net = torch.nn.Sequential(\n",
    "    torch.nn.Linear(in_features, 32),\n",
    "     torch.nn.ReLU(),\n",
    "     torch.nn.BatchNorm1d(32),\n",
    "     torch.nn.Dropout(0.1),\n",
    "    \n",
    "     torch.nn.Linear(32, 32),\n",
    "     torch.nn.ReLU(),\n",
    "     torch.nn.BatchNorm1d(32),\n",
    "     torch.nn.Dropout(0.1),\n",
    "   \n",
    "     torch.nn.Linear(32, out_features)\n",
    ")"
   ]
  },
  {
   "cell_type": "code",
   "execution_count": 10,
   "id": "9ecf203a",
   "metadata": {},
   "outputs": [],
   "source": [
    "net = tt.practical.MLPVanilla(in_features, num_nodes, out_features, batch_norm, dropout)"
   ]
  },
  {
   "cell_type": "code",
   "execution_count": 11,
   "id": "47e1a333",
   "metadata": {},
   "outputs": [],
   "source": [
    "model = LogisticHazard(net, tt.optim.Adam(0.01), duration_index=labtrans.cuts)\n"
   ]
  },
  {
   "cell_type": "code",
   "execution_count": 12,
   "id": "72680bfe",
   "metadata": {},
   "outputs": [],
   "source": [
    "batch_size = 256 #256\n",
    "epochs = 100\n",
    "callbacks = [tt.cb.EarlyStopping()]"
   ]
  },
  {
   "cell_type": "code",
   "execution_count": 13,
   "id": "31f325c1",
   "metadata": {
    "scrolled": true
   },
   "outputs": [
    {
     "name": "stdout",
     "output_type": "stream",
     "text": [
      "0:\t[0s / 0s],\t\ttrain_loss: 3.0792,\tval_loss: 2.9861\n",
      "1:\t[0s / 0s],\t\ttrain_loss: 2.7489,\tval_loss: 2.6268\n",
      "2:\t[0s / 0s],\t\ttrain_loss: 2.4555,\tval_loss: 2.2492\n",
      "3:\t[0s / 0s],\t\ttrain_loss: 2.1038,\tval_loss: 1.8631\n",
      "4:\t[0s / 0s],\t\ttrain_loss: 1.7819,\tval_loss: 1.5735\n",
      "5:\t[0s / 0s],\t\ttrain_loss: 1.5585,\tval_loss: 1.4190\n",
      "6:\t[0s / 0s],\t\ttrain_loss: 1.4709,\tval_loss: 1.3751\n",
      "7:\t[0s / 0s],\t\ttrain_loss: 1.4167,\tval_loss: 1.3655\n",
      "8:\t[0s / 0s],\t\ttrain_loss: 1.4129,\tval_loss: 1.3597\n",
      "9:\t[0s / 0s],\t\ttrain_loss: 1.3746,\tval_loss: 1.3548\n",
      "10:\t[0s / 0s],\t\ttrain_loss: 1.3603,\tval_loss: 1.3562\n",
      "11:\t[0s / 0s],\t\ttrain_loss: 1.3416,\tval_loss: 1.3552\n",
      "12:\t[0s / 0s],\t\ttrain_loss: 1.3472,\tval_loss: 1.3509\n",
      "13:\t[0s / 0s],\t\ttrain_loss: 1.3369,\tval_loss: 1.3479\n",
      "14:\t[0s / 0s],\t\ttrain_loss: 1.3289,\tval_loss: 1.3491\n",
      "15:\t[0s / 0s],\t\ttrain_loss: 1.3208,\tval_loss: 1.3516\n",
      "16:\t[0s / 0s],\t\ttrain_loss: 1.3223,\tval_loss: 1.3624\n",
      "17:\t[0s / 0s],\t\ttrain_loss: 1.3227,\tval_loss: 1.3621\n",
      "18:\t[0s / 0s],\t\ttrain_loss: 1.2927,\tval_loss: 1.3634\n",
      "19:\t[0s / 0s],\t\ttrain_loss: 1.2997,\tval_loss: 1.3697\n",
      "20:\t[0s / 0s],\t\ttrain_loss: 1.3038,\tval_loss: 1.3733\n",
      "21:\t[0s / 0s],\t\ttrain_loss: 1.2851,\tval_loss: 1.3765\n",
      "22:\t[0s / 0s],\t\ttrain_loss: 1.2773,\tval_loss: 1.3754\n",
      "23:\t[0s / 0s],\t\ttrain_loss: 1.2818,\tval_loss: 1.3814\n"
     ]
    }
   ],
   "source": [
    "log = model.fit(x_train, y_train, batch_size, epochs, callbacks, val_data=val) # , callbacks, val_data=val)"
   ]
  },
  {
   "cell_type": "code",
   "execution_count": 14,
   "id": "17df39d6",
   "metadata": {},
   "outputs": [
    {
     "data": {
      "text/plain": [
       "<AxesSubplot:>"
      ]
     },
     "execution_count": 14,
     "metadata": {},
     "output_type": "execute_result"
    },
    {
     "data": {
      "image/png": "[encoded data removed]",
      "text/plain": [
       "<Figure size 432x288 with 1 Axes>"
      ]
     },
     "metadata": {
      "needs_background": "light"
     },
     "output_type": "display_data"
    }
   ],
   "source": [
    "log.plot()"
   ]
  },
  {
   "cell_type": "code",
   "execution_count": 15,
   "id": "f2415f65",
   "metadata": {},
   "outputs": [
    {
     "data": {
      "text/plain": [
       "(array([[-0.38457575, -0.89326   , -0.74212027, ...,  0.        ,\n",
       "          0.        ,  1.        ],\n",
       "        [-0.3665086 , -0.3167301 ,  0.05380753, ...,  1.        ,\n",
       "          0.        ,  1.        ],\n",
       "        [-0.5659799 , -0.83177716, -0.9836813 , ...,  1.        ,\n",
       "          1.        ,  1.        ],\n",
       "        ...,\n",
       "        [-0.5302728 ,  0.5557188 ,  0.24615282, ...,  0.        ,\n",
       "          0.        ,  1.        ],\n",
       "        [-0.8310751 ,  0.80899894,  0.56936073, ...,  0.        ,\n",
       "          0.        ,  1.        ],\n",
       "        [-0.7328408 ,  0.42610374, -0.10061071, ...,  0.        ,\n",
       "          0.        ,  1.        ]], dtype=float32),\n",
       " (array([3, 2, 4, 2, 5, 3, 1, 3, 4, 1, 5, 1, 5, 3, 2, 1, 5, 3, 4, 0, 2, 5,\n",
       "         7, 5, 4, 3, 2, 4, 5, 6, 1, 1, 3, 7, 1, 1, 4, 2, 4, 6, 6, 1, 3, 6,\n",
       "         2, 2, 4, 1, 2, 3, 4, 2, 2, 5, 4, 1, 1, 3, 6, 1, 5, 2, 3, 6, 2, 5,\n",
       "         3, 2, 5, 4, 4, 4, 2, 1, 3, 2, 5, 2, 8, 4, 1, 2, 2, 2, 3, 2, 4, 1,\n",
       "         3, 3, 1, 2, 3, 1, 5, 2, 6, 2, 3, 3, 5, 2, 6, 2, 4, 5, 6, 3, 4, 2,\n",
       "         2, 4, 5, 5, 2, 2, 1, 2, 1, 3, 4, 5, 1, 4, 1, 4, 1, 6, 3, 4, 6, 6,\n",
       "         5, 1, 2, 7, 1, 3, 1, 2, 2, 4, 3, 7, 1, 5, 1, 1, 2, 1, 6, 4, 6, 2,\n",
       "         0, 4, 2, 2, 2, 6, 7, 5, 6, 4, 1, 4, 4, 1, 5, 4, 2, 3, 3, 5, 3, 3,\n",
       "         5, 6, 3, 2, 4, 3, 1, 2, 2, 3, 3, 2, 1, 4, 1, 3, 4, 3, 3, 4, 5, 4,\n",
       "         2, 7, 3, 3, 2, 4, 4, 2, 2, 3, 6, 1, 3, 2, 6, 6, 5, 2, 2, 3, 4, 3,\n",
       "         1, 6, 1, 4, 2, 1, 5, 3, 2, 5, 2, 3, 4, 3, 5, 5, 5, 1, 1, 1, 3, 6,\n",
       "         2, 1, 5, 1, 4, 1, 6, 6, 6, 3, 3, 5, 7, 2, 2, 5, 6, 3, 7, 4, 4, 5,\n",
       "         1, 2, 2, 7, 4, 1, 5, 3, 3, 3, 1, 4, 2, 3, 5, 1, 2, 7, 2, 3, 4, 6,\n",
       "         5, 0, 2, 5, 3, 3, 3, 2, 2, 4, 3, 1, 2, 2, 5, 4, 1, 7, 1]),\n",
       "  array([1., 1., 1., 0., 1., 0., 1., 0., 1., 1., 0., 1., 1., 0., 0., 1., 1.,\n",
       "         1., 1., 0., 1., 0., 1., 1., 0., 1., 0., 1., 0., 1., 0., 1., 0., 0.,\n",
       "         0., 0., 1., 1., 1., 0., 0., 1., 1., 1., 0., 1., 1., 0., 0., 0., 1.,\n",
       "         0., 1., 1., 1., 0., 1., 1., 0., 0., 1., 0., 1., 1., 0., 0., 0., 0.,\n",
       "         0., 1., 0., 0., 1., 1., 0., 1., 0., 1., 1., 0., 1., 1., 0., 1., 1.,\n",
       "         1., 0., 1., 0., 1., 1., 1., 0., 1., 1., 0., 0., 0., 1., 1., 0., 1.,\n",
       "         0., 1., 1., 0., 0., 1., 0., 0., 0., 0., 1., 1., 1., 1., 0., 1., 0.,\n",
       "         0., 0., 0., 1., 1., 1., 0., 1., 0., 1., 1., 1., 0., 1., 1., 1., 1.,\n",
       "         1., 0., 1., 0., 0., 0., 1., 0., 1., 0., 0., 0., 1., 0., 0., 0., 1.,\n",
       "         1., 0., 0., 1., 0., 0., 1., 0., 0., 0., 1., 1., 0., 0., 0., 0., 0.,\n",
       "         1., 0., 0., 1., 1., 1., 1., 0., 0., 1., 0., 1., 1., 1., 1., 1., 1.,\n",
       "         0., 0., 1., 1., 1., 0., 0., 1., 0., 0., 1., 1., 0., 0., 1., 1., 0.,\n",
       "         1., 1., 1., 0., 0., 0., 0., 0., 0., 1., 1., 0., 1., 1., 1., 1., 1.,\n",
       "         0., 0., 0., 0., 1., 1., 1., 0., 0., 0., 0., 0., 1., 0., 1., 0., 1.,\n",
       "         1., 1., 0., 0., 1., 1., 1., 1., 1., 1., 0., 0., 0., 0., 0., 0., 1.,\n",
       "         1., 1., 1., 0., 1., 1., 0., 0., 1., 1., 0., 0., 0., 0., 1., 1., 1.,\n",
       "         0., 1., 0., 0., 1., 1., 0., 1., 1., 1., 1., 0., 1., 0., 0., 0., 1.,\n",
       "         1., 1., 1., 0., 0., 1., 0., 0., 1., 1., 1., 1., 1., 1., 0., 0.],\n",
       "        dtype=float32)))"
      ]
     },
     "execution_count": 15,
     "metadata": {},
     "output_type": "execute_result"
    }
   ],
   "source": [
    "val"
   ]
  },
  {
   "cell_type": "code",
   "execution_count": 16,
   "id": "919ac7ec",
   "metadata": {},
   "outputs": [
    {
     "data": {
      "text/plain": [
       "(1218, 9)"
      ]
     },
     "execution_count": 16,
     "metadata": {},
     "output_type": "execute_result"
    }
   ],
   "source": [
    "x_train.shape"
   ]
  },
  {
   "cell_type": "markdown",
   "id": "01a4d5bc",
   "metadata": {},
   "source": [
    "# Prediction"
   ]
  },
  {
   "cell_type": "code",
   "execution_count": 17,
   "id": "253c22f4",
   "metadata": {},
   "outputs": [],
   "source": [
    "surv = model.predict_surv_df(x_test)"
   ]
  },
  {
   "cell_type": "code",
   "execution_count": 18,
   "id": "4f136b90",
   "metadata": {},
   "outputs": [
    {
     "data": {
      "image/png": "[encoded data removed]",
      "text/plain": [
       "<Figure size 432x288 with 1 Axes>"
      ]
     },
     "metadata": {
      "needs_background": "light"
     },
     "output_type": "display_data"
    }
   ],
   "source": [
    "surv.iloc[:, :5].plot(drawstyle='steps-post')\n",
    "plt.ylabel('S(t | x)')\n",
    "_ = plt.xlabel('Time')"
   ]
  },
  {
   "cell_type": "code",
   "execution_count": 19,
   "id": "3248cd40",
   "metadata": {},
   "outputs": [],
   "source": [
    "surv = model.interpolate(10).predict_surv_df(x_test)"
   ]
  },
  {
   "cell_type": "code",
   "execution_count": 20,
   "id": "1db358e3",
   "metadata": {},
   "outputs": [
    {
     "data": {
      "image/png": "[encoded data removed]",
      "text/plain": [
       "<Figure size 432x288 with 1 Axes>"
      ]
     },
     "metadata": {
      "needs_background": "light"
     },
     "output_type": "display_data"
    }
   ],
   "source": [
    "surv.iloc[:, :5].plot(drawstyle='steps-post')\n",
    "plt.ylabel('S(t | x)')\n",
    "_ = plt.xlabel('Time')"
   ]
  },
  {
   "cell_type": "code",
   "execution_count": 21,
   "id": "c71944c4",
   "metadata": {},
   "outputs": [],
   "source": [
    "ev = EvalSurv(surv, durations_test, events_test, censor_surv='km')"
   ]
  },
  {
   "cell_type": "code",
   "execution_count": 22,
   "id": "dd5d471d",
   "metadata": {},
   "outputs": [
    {
     "name": "stderr",
     "output_type": "stream",
     "text": [
      "OMP: Info #271: omp_set_nested routine deprecated, please use omp_set_max_active_levels instead.\n"
     ]
    },
    {
     "data": {
      "text/plain": [
       "0.660604519055492"
      ]
     },
     "execution_count": 22,
     "metadata": {},
     "output_type": "execute_result"
    }
   ],
   "source": [
    "ev.concordance_td('antolini')"
   ]
  },
  {
   "cell_type": "code",
   "execution_count": null,
   "id": "963e6413",
   "metadata": {},
   "outputs": [],
   "source": []
  },
  {
   "cell_type": "markdown",
   "id": "b923235e",
   "metadata": {},
   "source": [
    "# Comparison to CPH"
   ]
  },
  {
   "cell_type": "code",
   "execution_count": 23,
   "id": "6a5bc74a",
   "metadata": {},
   "outputs": [
    {
     "data": {
      "text/html": [
       "<div>\n",
       "<style scoped>\n",
       "    .dataframe tbody tr th:only-of-type {\n",
       "        vertical-align: middle;\n",
       "    }\n",
       "\n",
       "    .dataframe tbody tr th {\n",
       "        vertical-align: top;\n",
       "    }\n",
       "\n",
       "    .dataframe thead th {\n",
       "        text-align: right;\n",
       "    }\n",
       "</style>\n",
       "<table border=\"1\" class=\"dataframe\">\n",
       "  <tbody>\n",
       "    <tr>\n",
       "      <th>model</th>\n",
       "      <td>lifelines.CoxPHFitter</td>\n",
       "    </tr>\n",
       "    <tr>\n",
       "      <th>duration col</th>\n",
       "      <td>'duration'</td>\n",
       "    </tr>\n",
       "    <tr>\n",
       "      <th>event col</th>\n",
       "      <td>'event'</td>\n",
       "    </tr>\n",
       "    <tr>\n",
       "      <th>baseline estimation</th>\n",
       "      <td>breslow</td>\n",
       "    </tr>\n",
       "    <tr>\n",
       "      <th>number of observations</th>\n",
       "      <td>1218</td>\n",
       "    </tr>\n",
       "    <tr>\n",
       "      <th>number of events observed</th>\n",
       "      <td>736</td>\n",
       "    </tr>\n",
       "    <tr>\n",
       "      <th>partial log-likelihood</th>\n",
       "      <td>-4576.34</td>\n",
       "    </tr>\n",
       "    <tr>\n",
       "      <th>time fit was run</th>\n",
       "      <td>2022-10-17 02:17:32 UTC</td>\n",
       "    </tr>\n",
       "  </tbody>\n",
       "</table>\n",
       "</div><table border=\"1\" class=\"dataframe\">\n",
       "  <thead>\n",
       "    <tr style=\"text-align: right;\">\n",
       "      <th style=\"min-width: 12px;\"></th>\n",
       "      <th style=\"min-width: 12px;\">coef</th>\n",
       "      <th style=\"min-width: 12px;\">exp(coef)</th>\n",
       "      <th style=\"min-width: 12px;\">se(coef)</th>\n",
       "      <th style=\"min-width: 12px;\">coef lower 95%</th>\n",
       "      <th style=\"min-width: 12px;\">coef upper 95%</th>\n",
       "      <th style=\"min-width: 12px;\">exp(coef) lower 95%</th>\n",
       "      <th style=\"min-width: 12px;\">exp(coef) upper 95%</th>\n",
       "      <th style=\"min-width: 12px;\">cmp to</th>\n",
       "      <th style=\"min-width: 12px;\">z</th>\n",
       "      <th style=\"min-width: 12px;\">p</th>\n",
       "      <th style=\"min-width: 12px;\">-log2(p)</th>\n",
       "    </tr>\n",
       "  </thead>\n",
       "  <tbody>\n",
       "    <tr>\n",
       "      <th>x0</th>\n",
       "      <td>0.04</td>\n",
       "      <td>1.04</td>\n",
       "      <td>0.04</td>\n",
       "      <td>-0.05</td>\n",
       "      <td>0.13</td>\n",
       "      <td>0.96</td>\n",
       "      <td>1.14</td>\n",
       "      <td>0.00</td>\n",
       "      <td>0.93</td>\n",
       "      <td>0.35</td>\n",
       "      <td>1.50</td>\n",
       "    </tr>\n",
       "    <tr>\n",
       "      <th>x1</th>\n",
       "      <td>-0.09</td>\n",
       "      <td>0.92</td>\n",
       "      <td>0.04</td>\n",
       "      <td>-0.17</td>\n",
       "      <td>-0.00</td>\n",
       "      <td>0.84</td>\n",
       "      <td>1.00</td>\n",
       "      <td>0.00</td>\n",
       "      <td>-1.99</td>\n",
       "      <td>0.05</td>\n",
       "      <td>4.43</td>\n",
       "    </tr>\n",
       "    <tr>\n",
       "      <th>x2</th>\n",
       "      <td>0.10</td>\n",
       "      <td>1.11</td>\n",
       "      <td>0.04</td>\n",
       "      <td>0.03</td>\n",
       "      <td>0.18</td>\n",
       "      <td>1.03</td>\n",
       "      <td>1.20</td>\n",
       "      <td>0.00</td>\n",
       "      <td>2.66</td>\n",
       "      <td>0.01</td>\n",
       "      <td>7.00</td>\n",
       "    </tr>\n",
       "    <tr>\n",
       "      <th>x3</th>\n",
       "      <td>0.12</td>\n",
       "      <td>1.13</td>\n",
       "      <td>0.04</td>\n",
       "      <td>0.05</td>\n",
       "      <td>0.20</td>\n",
       "      <td>1.05</td>\n",
       "      <td>1.22</td>\n",
       "      <td>0.00</td>\n",
       "      <td>3.17</td>\n",
       "      <td>&lt;0.005</td>\n",
       "      <td>9.37</td>\n",
       "    </tr>\n",
       "    <tr>\n",
       "      <th>x4</th>\n",
       "      <td>0.10</td>\n",
       "      <td>1.10</td>\n",
       "      <td>0.08</td>\n",
       "      <td>-0.06</td>\n",
       "      <td>0.26</td>\n",
       "      <td>0.94</td>\n",
       "      <td>1.30</td>\n",
       "      <td>0.00</td>\n",
       "      <td>1.19</td>\n",
       "      <td>0.23</td>\n",
       "      <td>2.09</td>\n",
       "    </tr>\n",
       "    <tr>\n",
       "      <th>x5</th>\n",
       "      <td>-0.18</td>\n",
       "      <td>0.84</td>\n",
       "      <td>0.08</td>\n",
       "      <td>-0.33</td>\n",
       "      <td>-0.02</td>\n",
       "      <td>0.72</td>\n",
       "      <td>0.98</td>\n",
       "      <td>0.00</td>\n",
       "      <td>-2.26</td>\n",
       "      <td>0.02</td>\n",
       "      <td>5.40</td>\n",
       "    </tr>\n",
       "    <tr>\n",
       "      <th>x6</th>\n",
       "      <td>0.93</td>\n",
       "      <td>2.54</td>\n",
       "      <td>0.12</td>\n",
       "      <td>0.69</td>\n",
       "      <td>1.17</td>\n",
       "      <td>2.00</td>\n",
       "      <td>3.23</td>\n",
       "      <td>0.00</td>\n",
       "      <td>7.65</td>\n",
       "      <td>&lt;0.005</td>\n",
       "      <td>45.50</td>\n",
       "    </tr>\n",
       "    <tr>\n",
       "      <th>x7</th>\n",
       "      <td>0.10</td>\n",
       "      <td>1.11</td>\n",
       "      <td>0.13</td>\n",
       "      <td>-0.14</td>\n",
       "      <td>0.35</td>\n",
       "      <td>0.87</td>\n",
       "      <td>1.42</td>\n",
       "      <td>0.00</td>\n",
       "      <td>0.83</td>\n",
       "      <td>0.40</td>\n",
       "      <td>1.30</td>\n",
       "    </tr>\n",
       "    <tr>\n",
       "      <th>x8</th>\n",
       "      <td>0.60</td>\n",
       "      <td>1.81</td>\n",
       "      <td>0.05</td>\n",
       "      <td>0.50</td>\n",
       "      <td>0.69</td>\n",
       "      <td>1.65</td>\n",
       "      <td>2.00</td>\n",
       "      <td>0.00</td>\n",
       "      <td>12.15</td>\n",
       "      <td>&lt;0.005</td>\n",
       "      <td>110.46</td>\n",
       "    </tr>\n",
       "  </tbody>\n",
       "</table><br><div>\n",
       "<style scoped>\n",
       "    .dataframe tbody tr th:only-of-type {\n",
       "        vertical-align: middle;\n",
       "    }\n",
       "\n",
       "    .dataframe tbody tr th {\n",
       "        vertical-align: top;\n",
       "    }\n",
       "\n",
       "    .dataframe thead th {\n",
       "        text-align: right;\n",
       "    }\n",
       "</style>\n",
       "<table border=\"1\" class=\"dataframe\">\n",
       "  <tbody>\n",
       "    <tr>\n",
       "      <th>Concordance</th>\n",
       "      <td>0.64</td>\n",
       "    </tr>\n",
       "    <tr>\n",
       "      <th>Partial AIC</th>\n",
       "      <td>9170.69</td>\n",
       "    </tr>\n",
       "    <tr>\n",
       "      <th>log-likelihood ratio test</th>\n",
       "      <td>212.43 on 9 df</td>\n",
       "    </tr>\n",
       "    <tr>\n",
       "      <th>-log2(p) of ll-ratio test</th>\n",
       "      <td>133.17</td>\n",
       "    </tr>\n",
       "  </tbody>\n",
       "</table>\n",
       "</div>"
      ],
      "text/latex": [
       "\\begin{tabular}{lrrrrrrrrrrr}\n",
       "\\toprule\n",
       "{} &  coef &  exp(coef) &  se(coef) &  coef lower 95\\% &  coef upper 95\\% &  exp(coef) lower 95\\% &  exp(coef) upper 95\\% &  cmp to &     z &    p &  -log2(p) \\\\\n",
       "covariate &       &            &           &                 &                 &                      &                      &         &       &      &           \\\\\n",
       "\\midrule\n",
       "x0        &  0.04 &       1.04 &      0.04 &           -0.05 &            0.13 &                 0.96 &                 1.14 &    0.00 &  0.93 & 0.35 &      1.50 \\\\\n",
       "x1        & -0.09 &       0.92 &      0.04 &           -0.17 &           -0.00 &                 0.84 &                 1.00 &    0.00 & -1.99 & 0.05 &      4.43 \\\\\n",
       "x2        &  0.10 &       1.11 &      0.04 &            0.03 &            0.18 &                 1.03 &                 1.20 &    0.00 &  2.66 & 0.01 &      7.00 \\\\\n",
       "x3        &  0.12 &       1.13 &      0.04 &            0.05 &            0.20 &                 1.05 &                 1.22 &    0.00 &  3.17 & 0.00 &      9.37 \\\\\n",
       "x4        &  0.10 &       1.10 &      0.08 &           -0.06 &            0.26 &                 0.94 &                 1.30 &    0.00 &  1.19 & 0.23 &      2.09 \\\\\n",
       "x5        & -0.18 &       0.84 &      0.08 &           -0.33 &           -0.02 &                 0.72 &                 0.98 &    0.00 & -2.26 & 0.02 &      5.40 \\\\\n",
       "x6        &  0.93 &       2.54 &      0.12 &            0.69 &            1.17 &                 2.00 &                 3.23 &    0.00 &  7.65 & 0.00 &     45.50 \\\\\n",
       "x7        &  0.10 &       1.11 &      0.13 &           -0.14 &            0.35 &                 0.87 &                 1.42 &    0.00 &  0.83 & 0.40 &      1.30 \\\\\n",
       "x8        &  0.60 &       1.81 &      0.05 &            0.50 &            0.69 &                 1.65 &                 2.00 &    0.00 & 12.15 & 0.00 &    110.46 \\\\\n",
       "\\bottomrule\n",
       "\\end{tabular}\n"
      ],
      "text/plain": [
       "<lifelines.CoxPHFitter: fitted with 1218 total observations, 482 right-censored observations>\n",
       "             duration col = 'duration'\n",
       "                event col = 'event'\n",
       "      baseline estimation = breslow\n",
       "   number of observations = 1218\n",
       "number of events observed = 736\n",
       "   partial log-likelihood = -4576.34\n",
       "         time fit was run = 2022-10-17 02:17:32 UTC\n",
       "\n",
       "---\n",
       "            coef  exp(coef)   se(coef)   coef lower 95%   coef upper 95%  exp(coef) lower 95%  exp(coef) upper 95%\n",
       "covariate                                                                                                         \n",
       "x0          0.04       1.04       0.04            -0.05             0.13                 0.96                 1.14\n",
       "x1         -0.09       0.92       0.04            -0.17            -0.00                 0.84                 1.00\n",
       "x2          0.10       1.11       0.04             0.03             0.18                 1.03                 1.20\n",
       "x3          0.12       1.13       0.04             0.05             0.20                 1.05                 1.22\n",
       "x4          0.10       1.10       0.08            -0.06             0.26                 0.94                 1.30\n",
       "x5         -0.18       0.84       0.08            -0.33            -0.02                 0.72                 0.98\n",
       "x6          0.93       2.54       0.12             0.69             1.17                 2.00                 3.23\n",
       "x7          0.10       1.11       0.13            -0.14             0.35                 0.87                 1.42\n",
       "x8          0.60       1.81       0.05             0.50             0.69                 1.65                 2.00\n",
       "\n",
       "            cmp to     z      p   -log2(p)\n",
       "covariate                                 \n",
       "x0            0.00  0.93   0.35       1.50\n",
       "x1            0.00 -1.99   0.05       4.43\n",
       "x2            0.00  2.66   0.01       7.00\n",
       "x3            0.00  3.17 <0.005       9.37\n",
       "x4            0.00  1.19   0.23       2.09\n",
       "x5            0.00 -2.26   0.02       5.40\n",
       "x6            0.00  7.65 <0.005      45.50\n",
       "x7            0.00  0.83   0.40       1.30\n",
       "x8            0.00 12.15 <0.005     110.46\n",
       "---\n",
       "Concordance = 0.64\n",
       "Partial AIC = 9170.69\n",
       "log-likelihood ratio test = 212.43 on 9 df\n",
       "-log2(p) of ll-ratio test = 133.17"
      ]
     },
     "metadata": {},
     "output_type": "display_data"
    }
   ],
   "source": [
    "cph = CoxPHFitter().fit(df_train, 'duration', 'event')\n",
    "cph.print_summary()"
   ]
  },
  {
   "cell_type": "code",
   "execution_count": 24,
   "id": "12fda296",
   "metadata": {},
   "outputs": [
    {
     "data": {
      "text/plain": [
       "0.6503455000211963"
      ]
     },
     "execution_count": 24,
     "metadata": {},
     "output_type": "execute_result"
    }
   ],
   "source": [
    "cph.score(df_test, scoring_method = \"concordance_index\")"
   ]
  }
 ],
 "metadata": {
  "kernelspec": {
   "display_name": "Python 3 (ipykernel)",
   "language": "python",
   "name": "python3"
  },
  "language_info": {
   "codemirror_mode": {
    "name": "ipython",
    "version": 3
   },
   "file_extension": ".py",
   "mimetype": "text/x-python",
   "name": "python",
   "nbconvert_exporter": "python",
   "pygments_lexer": "ipython3",
   "version": "3.7.13"
  },
  "toc": {
   "base_numbering": 1,
   "nav_menu": {},
   "number_sections": true,
   "sideBar": true,
   "skip_h1_title": false,
   "title_cell": "Table of Contents",
   "title_sidebar": "Contents",
   "toc_cell": false,
   "toc_position": {
    "height": "calc(100% - 180px)",
    "left": "10px",
    "top": "150px",
    "width": "288px"
   },
   "toc_section_display": true,
   "toc_window_display": true
  }
 },
 "nbformat": 4,
 "nbformat_minor": 5
}
