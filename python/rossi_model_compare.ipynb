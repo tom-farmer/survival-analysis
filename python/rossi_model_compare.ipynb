{
 "cells": [
  {
   "cell_type": "markdown",
   "id": "9c4a3147",
   "metadata": {},
   "source": [
    "# Rossi Data Model Bakeoff\n",
    "This notebook uses the surv_nn environment\n"
   ]
  },
  {
   "cell_type": "code",
   "execution_count": 21,
   "id": "aef8f70e",
   "metadata": {},
   "outputs": [],
   "source": [
    "import torch\n",
    "import numpy as np\n",
    "import torchtuples as tt \n",
    "import matplotlib.pyplot as plt\n",
    "\n",
    "import seaborn as sns\n",
    "from lifelines import CoxPHFitter\n",
    "from sklearn.preprocessing import StandardScaler\n",
    "\n",
    "from lifelines.datasets import load_rossi\n",
    "from sklearn.model_selection import train_test_split\n",
    "from pycox.models import LogisticHazard\n",
    "from pycox.evaluation import EvalSurv"
   ]
  },
  {
   "cell_type": "code",
   "execution_count": 22,
   "id": "3edee662",
   "metadata": {},
   "outputs": [],
   "source": [
    "df = load_rossi()"
   ]
  },
  {
   "cell_type": "code",
   "execution_count": 23,
   "id": "2cd507bc",
   "metadata": {},
   "outputs": [
    {
     "name": "stdout",
     "output_type": "stream",
     "text": [
      "<class 'pandas.core.frame.DataFrame'>\n",
      "RangeIndex: 432 entries, 0 to 431\n",
      "Data columns (total 9 columns):\n",
      " #   Column  Non-Null Count  Dtype\n",
      "---  ------  --------------  -----\n",
      " 0   week    432 non-null    int64\n",
      " 1   arrest  432 non-null    int64\n",
      " 2   fin     432 non-null    int64\n",
      " 3   age     432 non-null    int64\n",
      " 4   race    432 non-null    int64\n",
      " 5   wexp    432 non-null    int64\n",
      " 6   mar     432 non-null    int64\n",
      " 7   paro    432 non-null    int64\n",
      " 8   prio    432 non-null    int64\n",
      "dtypes: int64(9)\n",
      "memory usage: 30.5 KB\n"
     ]
    }
   ],
   "source": [
    "df.info()"
   ]
  },
  {
   "cell_type": "code",
   "execution_count": 24,
   "id": "dec3549f",
   "metadata": {
    "scrolled": true
   },
   "outputs": [
    {
     "data": {
      "text/html": [
       "<div>\n",
       "<style scoped>\n",
       "    .dataframe tbody tr th:only-of-type {\n",
       "        vertical-align: middle;\n",
       "    }\n",
       "\n",
       "    .dataframe tbody tr th {\n",
       "        vertical-align: top;\n",
       "    }\n",
       "\n",
       "    .dataframe thead th {\n",
       "        text-align: right;\n",
       "    }\n",
       "</style>\n",
       "<table border=\"1\" class=\"dataframe\">\n",
       "  <thead>\n",
       "    <tr style=\"text-align: right;\">\n",
       "      <th></th>\n",
       "      <th>week</th>\n",
       "      <th>arrest</th>\n",
       "      <th>fin</th>\n",
       "      <th>age</th>\n",
       "      <th>race</th>\n",
       "      <th>wexp</th>\n",
       "      <th>mar</th>\n",
       "      <th>paro</th>\n",
       "      <th>prio</th>\n",
       "    </tr>\n",
       "  </thead>\n",
       "  <tbody>\n",
       "    <tr>\n",
       "      <th>count</th>\n",
       "      <td>432.000000</td>\n",
       "      <td>432.000000</td>\n",
       "      <td>432.00000</td>\n",
       "      <td>432.000000</td>\n",
       "      <td>432.000000</td>\n",
       "      <td>432.000000</td>\n",
       "      <td>432.000000</td>\n",
       "      <td>432.000000</td>\n",
       "      <td>432.000000</td>\n",
       "    </tr>\n",
       "    <tr>\n",
       "      <th>mean</th>\n",
       "      <td>45.854167</td>\n",
       "      <td>0.263889</td>\n",
       "      <td>0.50000</td>\n",
       "      <td>24.597222</td>\n",
       "      <td>0.877315</td>\n",
       "      <td>0.571759</td>\n",
       "      <td>0.122685</td>\n",
       "      <td>0.618056</td>\n",
       "      <td>2.983796</td>\n",
       "    </tr>\n",
       "    <tr>\n",
       "      <th>std</th>\n",
       "      <td>12.662293</td>\n",
       "      <td>0.441251</td>\n",
       "      <td>0.50058</td>\n",
       "      <td>6.113375</td>\n",
       "      <td>0.328456</td>\n",
       "      <td>0.495398</td>\n",
       "      <td>0.328456</td>\n",
       "      <td>0.486426</td>\n",
       "      <td>2.896068</td>\n",
       "    </tr>\n",
       "    <tr>\n",
       "      <th>min</th>\n",
       "      <td>1.000000</td>\n",
       "      <td>0.000000</td>\n",
       "      <td>0.00000</td>\n",
       "      <td>17.000000</td>\n",
       "      <td>0.000000</td>\n",
       "      <td>0.000000</td>\n",
       "      <td>0.000000</td>\n",
       "      <td>0.000000</td>\n",
       "      <td>0.000000</td>\n",
       "    </tr>\n",
       "    <tr>\n",
       "      <th>25%</th>\n",
       "      <td>50.000000</td>\n",
       "      <td>0.000000</td>\n",
       "      <td>0.00000</td>\n",
       "      <td>20.000000</td>\n",
       "      <td>1.000000</td>\n",
       "      <td>0.000000</td>\n",
       "      <td>0.000000</td>\n",
       "      <td>0.000000</td>\n",
       "      <td>1.000000</td>\n",
       "    </tr>\n",
       "    <tr>\n",
       "      <th>50%</th>\n",
       "      <td>52.000000</td>\n",
       "      <td>0.000000</td>\n",
       "      <td>0.50000</td>\n",
       "      <td>23.000000</td>\n",
       "      <td>1.000000</td>\n",
       "      <td>1.000000</td>\n",
       "      <td>0.000000</td>\n",
       "      <td>1.000000</td>\n",
       "      <td>2.000000</td>\n",
       "    </tr>\n",
       "    <tr>\n",
       "      <th>75%</th>\n",
       "      <td>52.000000</td>\n",
       "      <td>1.000000</td>\n",
       "      <td>1.00000</td>\n",
       "      <td>27.000000</td>\n",
       "      <td>1.000000</td>\n",
       "      <td>1.000000</td>\n",
       "      <td>0.000000</td>\n",
       "      <td>1.000000</td>\n",
       "      <td>4.000000</td>\n",
       "    </tr>\n",
       "    <tr>\n",
       "      <th>max</th>\n",
       "      <td>52.000000</td>\n",
       "      <td>1.000000</td>\n",
       "      <td>1.00000</td>\n",
       "      <td>44.000000</td>\n",
       "      <td>1.000000</td>\n",
       "      <td>1.000000</td>\n",
       "      <td>1.000000</td>\n",
       "      <td>1.000000</td>\n",
       "      <td>18.000000</td>\n",
       "    </tr>\n",
       "  </tbody>\n",
       "</table>\n",
       "</div>"
      ],
      "text/plain": [
       "             week      arrest        fin         age        race        wexp  \\\n",
       "count  432.000000  432.000000  432.00000  432.000000  432.000000  432.000000   \n",
       "mean    45.854167    0.263889    0.50000   24.597222    0.877315    0.571759   \n",
       "std     12.662293    0.441251    0.50058    6.113375    0.328456    0.495398   \n",
       "min      1.000000    0.000000    0.00000   17.000000    0.000000    0.000000   \n",
       "25%     50.000000    0.000000    0.00000   20.000000    1.000000    0.000000   \n",
       "50%     52.000000    0.000000    0.50000   23.000000    1.000000    1.000000   \n",
       "75%     52.000000    1.000000    1.00000   27.000000    1.000000    1.000000   \n",
       "max     52.000000    1.000000    1.00000   44.000000    1.000000    1.000000   \n",
       "\n",
       "              mar        paro        prio  \n",
       "count  432.000000  432.000000  432.000000  \n",
       "mean     0.122685    0.618056    2.983796  \n",
       "std      0.328456    0.486426    2.896068  \n",
       "min      0.000000    0.000000    0.000000  \n",
       "25%      0.000000    0.000000    1.000000  \n",
       "50%      0.000000    1.000000    2.000000  \n",
       "75%      0.000000    1.000000    4.000000  \n",
       "max      1.000000    1.000000   18.000000  "
      ]
     },
     "execution_count": 24,
     "metadata": {},
     "output_type": "execute_result"
    }
   ],
   "source": [
    "df.describe()"
   ]
  },
  {
   "cell_type": "code",
   "execution_count": 25,
   "id": "8d5601f0",
   "metadata": {},
   "outputs": [],
   "source": [
    "train, test = train_test_split(df, test_size=0.3, random_state=42)"
   ]
  },
  {
   "cell_type": "code",
   "execution_count": 26,
   "id": "3a7ad142",
   "metadata": {},
   "outputs": [
    {
     "data": {
      "text/html": [
       "<div>\n",
       "<style scoped>\n",
       "    .dataframe tbody tr th:only-of-type {\n",
       "        vertical-align: middle;\n",
       "    }\n",
       "\n",
       "    .dataframe tbody tr th {\n",
       "        vertical-align: top;\n",
       "    }\n",
       "\n",
       "    .dataframe thead th {\n",
       "        text-align: right;\n",
       "    }\n",
       "</style>\n",
       "<table border=\"1\" class=\"dataframe\">\n",
       "  <tbody>\n",
       "    <tr>\n",
       "      <th>model</th>\n",
       "      <td>lifelines.CoxPHFitter</td>\n",
       "    </tr>\n",
       "    <tr>\n",
       "      <th>duration col</th>\n",
       "      <td>'week'</td>\n",
       "    </tr>\n",
       "    <tr>\n",
       "      <th>event col</th>\n",
       "      <td>'arrest'</td>\n",
       "    </tr>\n",
       "    <tr>\n",
       "      <th>baseline estimation</th>\n",
       "      <td>breslow</td>\n",
       "    </tr>\n",
       "    <tr>\n",
       "      <th>number of observations</th>\n",
       "      <td>302</td>\n",
       "    </tr>\n",
       "    <tr>\n",
       "      <th>number of events observed</th>\n",
       "      <td>76</td>\n",
       "    </tr>\n",
       "    <tr>\n",
       "      <th>partial log-likelihood</th>\n",
       "      <td>-410.52</td>\n",
       "    </tr>\n",
       "    <tr>\n",
       "      <th>time fit was run</th>\n",
       "      <td>2022-10-17 02:38:27 UTC</td>\n",
       "    </tr>\n",
       "  </tbody>\n",
       "</table>\n",
       "</div><table border=\"1\" class=\"dataframe\">\n",
       "  <thead>\n",
       "    <tr style=\"text-align: right;\">\n",
       "      <th style=\"min-width: 12px;\"></th>\n",
       "      <th style=\"min-width: 12px;\">coef</th>\n",
       "      <th style=\"min-width: 12px;\">exp(coef)</th>\n",
       "      <th style=\"min-width: 12px;\">se(coef)</th>\n",
       "      <th style=\"min-width: 12px;\">coef lower 95%</th>\n",
       "      <th style=\"min-width: 12px;\">coef upper 95%</th>\n",
       "      <th style=\"min-width: 12px;\">exp(coef) lower 95%</th>\n",
       "      <th style=\"min-width: 12px;\">exp(coef) upper 95%</th>\n",
       "      <th style=\"min-width: 12px;\">cmp to</th>\n",
       "      <th style=\"min-width: 12px;\">z</th>\n",
       "      <th style=\"min-width: 12px;\">p</th>\n",
       "      <th style=\"min-width: 12px;\">-log2(p)</th>\n",
       "    </tr>\n",
       "  </thead>\n",
       "  <tbody>\n",
       "    <tr>\n",
       "      <th>fin</th>\n",
       "      <td>-0.61</td>\n",
       "      <td>0.54</td>\n",
       "      <td>0.24</td>\n",
       "      <td>-1.08</td>\n",
       "      <td>-0.14</td>\n",
       "      <td>0.34</td>\n",
       "      <td>0.87</td>\n",
       "      <td>0.00</td>\n",
       "      <td>-2.54</td>\n",
       "      <td>0.01</td>\n",
       "      <td>6.50</td>\n",
       "    </tr>\n",
       "    <tr>\n",
       "      <th>age</th>\n",
       "      <td>-0.05</td>\n",
       "      <td>0.95</td>\n",
       "      <td>0.03</td>\n",
       "      <td>-0.10</td>\n",
       "      <td>0.00</td>\n",
       "      <td>0.90</td>\n",
       "      <td>1.00</td>\n",
       "      <td>0.00</td>\n",
       "      <td>-1.91</td>\n",
       "      <td>0.06</td>\n",
       "      <td>4.17</td>\n",
       "    </tr>\n",
       "    <tr>\n",
       "      <th>race</th>\n",
       "      <td>0.27</td>\n",
       "      <td>1.32</td>\n",
       "      <td>0.36</td>\n",
       "      <td>-0.43</td>\n",
       "      <td>0.98</td>\n",
       "      <td>0.65</td>\n",
       "      <td>2.67</td>\n",
       "      <td>0.00</td>\n",
       "      <td>0.76</td>\n",
       "      <td>0.45</td>\n",
       "      <td>1.16</td>\n",
       "    </tr>\n",
       "    <tr>\n",
       "      <th>wexp</th>\n",
       "      <td>0.08</td>\n",
       "      <td>1.08</td>\n",
       "      <td>0.25</td>\n",
       "      <td>-0.42</td>\n",
       "      <td>0.58</td>\n",
       "      <td>0.66</td>\n",
       "      <td>1.78</td>\n",
       "      <td>0.00</td>\n",
       "      <td>0.31</td>\n",
       "      <td>0.76</td>\n",
       "      <td>0.40</td>\n",
       "    </tr>\n",
       "    <tr>\n",
       "      <th>mar</th>\n",
       "      <td>-0.68</td>\n",
       "      <td>0.51</td>\n",
       "      <td>0.48</td>\n",
       "      <td>-1.62</td>\n",
       "      <td>0.27</td>\n",
       "      <td>0.20</td>\n",
       "      <td>1.30</td>\n",
       "      <td>0.00</td>\n",
       "      <td>-1.41</td>\n",
       "      <td>0.16</td>\n",
       "      <td>2.65</td>\n",
       "    </tr>\n",
       "    <tr>\n",
       "      <th>paro</th>\n",
       "      <td>-0.13</td>\n",
       "      <td>0.88</td>\n",
       "      <td>0.24</td>\n",
       "      <td>-0.59</td>\n",
       "      <td>0.34</td>\n",
       "      <td>0.55</td>\n",
       "      <td>1.40</td>\n",
       "      <td>0.00</td>\n",
       "      <td>-0.53</td>\n",
       "      <td>0.59</td>\n",
       "      <td>0.75</td>\n",
       "    </tr>\n",
       "    <tr>\n",
       "      <th>prio</th>\n",
       "      <td>0.11</td>\n",
       "      <td>1.12</td>\n",
       "      <td>0.03</td>\n",
       "      <td>0.04</td>\n",
       "      <td>0.18</td>\n",
       "      <td>1.04</td>\n",
       "      <td>1.20</td>\n",
       "      <td>0.00</td>\n",
       "      <td>3.20</td>\n",
       "      <td>&lt;0.005</td>\n",
       "      <td>9.52</td>\n",
       "    </tr>\n",
       "  </tbody>\n",
       "</table><br><div>\n",
       "<style scoped>\n",
       "    .dataframe tbody tr th:only-of-type {\n",
       "        vertical-align: middle;\n",
       "    }\n",
       "\n",
       "    .dataframe tbody tr th {\n",
       "        vertical-align: top;\n",
       "    }\n",
       "\n",
       "    .dataframe thead th {\n",
       "        text-align: right;\n",
       "    }\n",
       "</style>\n",
       "<table border=\"1\" class=\"dataframe\">\n",
       "  <tbody>\n",
       "    <tr>\n",
       "      <th>Concordance</th>\n",
       "      <td>0.66</td>\n",
       "    </tr>\n",
       "    <tr>\n",
       "      <th>Partial AIC</th>\n",
       "      <td>835.05</td>\n",
       "    </tr>\n",
       "    <tr>\n",
       "      <th>log-likelihood ratio test</th>\n",
       "      <td>26.26 on 7 df</td>\n",
       "    </tr>\n",
       "    <tr>\n",
       "      <th>-log2(p) of ll-ratio test</th>\n",
       "      <td>11.11</td>\n",
       "    </tr>\n",
       "  </tbody>\n",
       "</table>\n",
       "</div>"
      ],
      "text/latex": [
       "\\begin{tabular}{lrrrrrrrrrrr}\n",
       "\\toprule\n",
       "{} &  coef &  exp(coef) &  se(coef) &  coef lower 95\\% &  coef upper 95\\% &  exp(coef) lower 95\\% &  exp(coef) upper 95\\% &  cmp to &     z &    p &  -log2(p) \\\\\n",
       "covariate &       &            &           &                 &                 &                      &                      &         &       &      &           \\\\\n",
       "\\midrule\n",
       "fin       & -0.61 &       0.54 &      0.24 &           -1.08 &           -0.14 &                 0.34 &                 0.87 &    0.00 & -2.54 & 0.01 &      6.50 \\\\\n",
       "age       & -0.05 &       0.95 &      0.03 &           -0.10 &            0.00 &                 0.90 &                 1.00 &    0.00 & -1.91 & 0.06 &      4.17 \\\\\n",
       "race      &  0.27 &       1.32 &      0.36 &           -0.43 &            0.98 &                 0.65 &                 2.67 &    0.00 &  0.76 & 0.45 &      1.16 \\\\\n",
       "wexp      &  0.08 &       1.08 &      0.25 &           -0.42 &            0.58 &                 0.66 &                 1.78 &    0.00 &  0.31 & 0.76 &      0.40 \\\\\n",
       "mar       & -0.68 &       0.51 &      0.48 &           -1.62 &            0.27 &                 0.20 &                 1.30 &    0.00 & -1.41 & 0.16 &      2.65 \\\\\n",
       "paro      & -0.13 &       0.88 &      0.24 &           -0.59 &            0.34 &                 0.55 &                 1.40 &    0.00 & -0.53 & 0.59 &      0.75 \\\\\n",
       "prio      &  0.11 &       1.12 &      0.03 &            0.04 &            0.18 &                 1.04 &                 1.20 &    0.00 &  3.20 & 0.00 &      9.52 \\\\\n",
       "\\bottomrule\n",
       "\\end{tabular}\n"
      ],
      "text/plain": [
       "<lifelines.CoxPHFitter: fitted with 302 total observations, 226 right-censored observations>\n",
       "             duration col = 'week'\n",
       "                event col = 'arrest'\n",
       "      baseline estimation = breslow\n",
       "   number of observations = 302\n",
       "number of events observed = 76\n",
       "   partial log-likelihood = -410.52\n",
       "         time fit was run = 2022-10-17 02:38:27 UTC\n",
       "\n",
       "---\n",
       "            coef  exp(coef)   se(coef)   coef lower 95%   coef upper 95%  exp(coef) lower 95%  exp(coef) upper 95%\n",
       "covariate                                                                                                         \n",
       "fin        -0.61       0.54       0.24            -1.08            -0.14                 0.34                 0.87\n",
       "age        -0.05       0.95       0.03            -0.10             0.00                 0.90                 1.00\n",
       "race        0.27       1.32       0.36            -0.43             0.98                 0.65                 2.67\n",
       "wexp        0.08       1.08       0.25            -0.42             0.58                 0.66                 1.78\n",
       "mar        -0.68       0.51       0.48            -1.62             0.27                 0.20                 1.30\n",
       "paro       -0.13       0.88       0.24            -0.59             0.34                 0.55                 1.40\n",
       "prio        0.11       1.12       0.03             0.04             0.18                 1.04                 1.20\n",
       "\n",
       "            cmp to     z      p   -log2(p)\n",
       "covariate                                 \n",
       "fin           0.00 -2.54   0.01       6.50\n",
       "age           0.00 -1.91   0.06       4.17\n",
       "race          0.00  0.76   0.45       1.16\n",
       "wexp          0.00  0.31   0.76       0.40\n",
       "mar           0.00 -1.41   0.16       2.65\n",
       "paro          0.00 -0.53   0.59       0.75\n",
       "prio          0.00  3.20 <0.005       9.52\n",
       "---\n",
       "Concordance = 0.66\n",
       "Partial AIC = 835.05\n",
       "log-likelihood ratio test = 26.26 on 7 df\n",
       "-log2(p) of ll-ratio test = 11.11"
      ]
     },
     "metadata": {},
     "output_type": "display_data"
    }
   ],
   "source": [
    "cph = CoxPHFitter().fit(train, 'week', 'arrest')\n",
    "cph.print_summary()"
   ]
  },
  {
   "cell_type": "code",
   "execution_count": 27,
   "id": "db465e3e",
   "metadata": {},
   "outputs": [
    {
     "data": {
      "text/plain": [
       "0.5714626580768313"
      ]
     },
     "execution_count": 27,
     "metadata": {},
     "output_type": "execute_result"
    }
   ],
   "source": [
    "cph.score(test, scoring_method = \"concordance_index\")"
   ]
  },
  {
   "cell_type": "code",
   "execution_count": 28,
   "id": "a19b2ff9",
   "metadata": {},
   "outputs": [],
   "source": [
    "cols_standardize = ['age', 'prio']\n",
    "cols_other = ['fin', 'race', 'wexp', 'mar', 'paro']\n",
    "standardize = [([col], StandardScaler()) for col in cols_standardize]\n",
    "for row, scaler in standardize:\n",
    "    train[row] = scaler.fit_transform(train[row])\n",
    "    test[row] = scaler.transform(test[row])"
   ]
  },
  {
   "cell_type": "code",
   "execution_count": 29,
   "id": "0b9bf8d8",
   "metadata": {},
   "outputs": [],
   "source": [
    "xtrain = train[cols_standardize + cols_other].astype('float32').to_numpy()\n",
    "xtest = test[cols_standardize + cols_other].astype('float32').to_numpy()"
   ]
  },
  {
   "cell_type": "code",
   "execution_count": 30,
   "id": "3ba0757d",
   "metadata": {},
   "outputs": [],
   "source": [
    "num_durations = 2\n",
    "\n",
    "labtrans = LogisticHazard.label_transform(num_durations)\n",
    "\n",
    "get_target = lambda df: (df['week'].values, df['arrest'].values)\n",
    "\n",
    "ytrain = labtrans.fit_transform(*get_target(train))\n",
    "ytest = labtrans.transform(*get_target(test))\n",
    "\n",
    "train_post = (xtrain, ytrain)\n",
    "test_post = (xtest, ytest)"
   ]
  },
  {
   "cell_type": "code",
   "execution_count": 31,
   "id": "935721e9",
   "metadata": {},
   "outputs": [],
   "source": [
    "in_features = xtrain.shape[1]\n",
    "lin_nodes = 8\n",
    "num_nodes = [lin_nodes, lin_nodes]\n",
    "out_features = labtrans.out_features\n",
    "batch_norm = True\n",
    "dropout = 0.1\n",
    "\n",
    "net = torch.nn.Sequential(\n",
    "    torch.nn.Linear(in_features, lin_nodes),\n",
    "     torch.nn.ReLU(),\n",
    "     torch.nn.BatchNorm1d(lin_nodes),\n",
    "     torch.nn.Dropout(0.1),\n",
    "    \n",
    "     torch.nn.Linear(lin_nodes, lin_nodes),\n",
    "     torch.nn.ReLU(),\n",
    "     torch.nn.BatchNorm1d(lin_nodes),\n",
    "     torch.nn.Dropout(0.1),\n",
    "   \n",
    "     torch.nn.Linear(lin_nodes, out_features)\n",
    ")"
   ]
  },
  {
   "cell_type": "code",
   "execution_count": 32,
   "id": "41c8a34b",
   "metadata": {},
   "outputs": [],
   "source": [
    "net = tt.practical.MLPVanilla(in_features, num_nodes, out_features, batch_norm, dropout)"
   ]
  },
  {
   "cell_type": "code",
   "execution_count": 33,
   "id": "09d06d5e",
   "metadata": {},
   "outputs": [],
   "source": [
    "model = LogisticHazard(net, tt.optim.Adam(0.01), duration_index=labtrans.cuts)\n"
   ]
  },
  {
   "cell_type": "code",
   "execution_count": 34,
   "id": "99742530",
   "metadata": {},
   "outputs": [],
   "source": [
    "batch_size = 16 #256\n",
    "epochs = 100\n",
    "callbacks = [tt.cb.EarlyStopping(patience = 3)]"
   ]
  },
  {
   "cell_type": "code",
   "execution_count": 35,
   "id": "f19b1638",
   "metadata": {
    "scrolled": true
   },
   "outputs": [
    {
     "name": "stdout",
     "output_type": "stream",
     "text": [
      "0:\t[0s / 0s],\t\ttrain_loss: 1.4150,\tval_loss: 1.2536\n",
      "1:\t[0s / 0s],\t\ttrain_loss: 1.0544,\tval_loss: 0.9385\n",
      "2:\t[0s / 0s],\t\ttrain_loss: 0.7533,\tval_loss: 0.7205\n",
      "3:\t[0s / 0s],\t\ttrain_loss: 0.5981,\tval_loss: 0.6614\n",
      "4:\t[0s / 0s],\t\ttrain_loss: 0.5729,\tval_loss: 0.6408\n",
      "5:\t[0s / 0s],\t\ttrain_loss: 0.5462,\tval_loss: 0.6249\n",
      "6:\t[0s / 0s],\t\ttrain_loss: 0.5496,\tval_loss: 0.6310\n",
      "7:\t[0s / 0s],\t\ttrain_loss: 0.5415,\tval_loss: 0.6222\n",
      "8:\t[0s / 0s],\t\ttrain_loss: 0.5647,\tval_loss: 0.6336\n",
      "9:\t[0s / 0s],\t\ttrain_loss: 0.5489,\tval_loss: 0.6254\n",
      "10:\t[0s / 0s],\t\ttrain_loss: 0.5431,\tval_loss: 0.6209\n",
      "11:\t[0s / 0s],\t\ttrain_loss: 0.5477,\tval_loss: 0.6258\n",
      "12:\t[0s / 0s],\t\ttrain_loss: 0.5429,\tval_loss: 0.6370\n",
      "13:\t[0s / 0s],\t\ttrain_loss: 0.5356,\tval_loss: 0.6452\n"
     ]
    }
   ],
   "source": [
    "log = model.fit(xtrain, ytrain, batch_size, epochs, callbacks, val_data = test_post) # , callbacks, val_data=val)"
   ]
  },
  {
   "cell_type": "code",
   "execution_count": 36,
   "id": "1e2a10b8",
   "metadata": {
    "scrolled": true
   },
   "outputs": [
    {
     "data": {
      "text/plain": [
       "<AxesSubplot:>"
      ]
     },
     "execution_count": 36,
     "metadata": {},
     "output_type": "execute_result"
    },
    {
     "data": {
      "image/png": "[encoded data removed]",
      "text/plain": [
       "<Figure size 432x288 with 1 Axes>"
      ]
     },
     "metadata": {
      "needs_background": "light"
     },
     "output_type": "display_data"
    }
   ],
   "source": [
    "log.plot()"
   ]
  },
  {
   "cell_type": "code",
   "execution_count": 37,
   "id": "8035bafb",
   "metadata": {},
   "outputs": [],
   "source": [
    "durations_test, events_test = get_target(test)"
   ]
  },
  {
   "cell_type": "code",
   "execution_count": 41,
   "id": "afc4348e",
   "metadata": {},
   "outputs": [
    {
     "data": {
      "text/plain": [
       "0.5368647100930566"
      ]
     },
     "execution_count": 41,
     "metadata": {},
     "output_type": "execute_result"
    }
   ],
   "source": [
    "surv = model.interpolate(10).predict_surv_df(xtest)\n",
    "ev = EvalSurv(surv, durations_test, events_test, censor_surv='km')\n",
    "ev.concordance_td('antolini')"
   ]
  },
  {
   "cell_type": "code",
   "execution_count": 39,
   "id": "ad2840a8",
   "metadata": {},
   "outputs": [],
   "source": [
    "#tt.cb.EarlyStopping?"
   ]
  },
  {
   "cell_type": "code",
   "execution_count": null,
   "id": "670331f5",
   "metadata": {},
   "outputs": [],
   "source": []
  },
  {
   "cell_type": "code",
   "execution_count": null,
   "id": "c52b3fa3",
   "metadata": {},
   "outputs": [],
   "source": []
  },
  {
   "cell_type": "code",
   "execution_count": null,
   "id": "edb2b977",
   "metadata": {},
   "outputs": [],
   "source": []
  },
  {
   "cell_type": "code",
   "execution_count": null,
   "id": "a7d0344d",
   "metadata": {},
   "outputs": [],
   "source": []
  }
 ],
 "metadata": {
  "kernelspec": {
   "display_name": "Python 3 (ipykernel)",
   "language": "python",
   "name": "python3"
  },
  "language_info": {
   "codemirror_mode": {
    "name": "ipython",
    "version": 3
   },
   "file_extension": ".py",
   "mimetype": "text/x-python",
   "name": "python",
   "nbconvert_exporter": "python",
   "pygments_lexer": "ipython3",
   "version": "3.7.13"
  },
  "toc": {
   "base_numbering": 1,
   "nav_menu": {},
   "number_sections": true,
   "sideBar": true,
   "skip_h1_title": false,
   "title_cell": "Table of Contents",
   "title_sidebar": "Contents",
   "toc_cell": false,
   "toc_position": {
    "height": "calc(100% - 180px)",
    "left": "10px",
    "top": "150px",
    "width": "288px"
   },
   "toc_section_display": true,
   "toc_window_display": true
  }
 },
 "nbformat": 4,
 "nbformat_minor": 5
}
