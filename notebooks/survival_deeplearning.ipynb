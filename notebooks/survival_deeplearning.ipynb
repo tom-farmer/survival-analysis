{
 "cells": [
  {
   "cell_type": "markdown",
   "id": "857d4435",
   "metadata": {},
   "source": [
    "# Resources"
   ]
  },
  {
   "cell_type": "markdown",
   "id": "e418e006",
   "metadata": {},
   "source": [
    " This notebook uses the surv_nn environment\n",
    " \n",
    " Resources:\n",
    " \n",
    " Youtube Videos:\n",
    "  - https://www.youtube.com/watch?v=G5Q-JuVzFE0\n",
    "  - https://www.youtube.com/watch?v=-vmV4qA0ztQ\n",
    "  - https://www.youtube.com/watch?v=VxjfI7vkjhU\n",
    " \n",
    "Papers:\n",
    " - SurvNet: https://www.frontiersin.org/articles/10.3389/fonc.2020.588990/full#f2\n",
    " - DeepSurv: https://bmcmedresmethodol.biomedcentral.com/track/pdf/10.1186/s12874-018-0482-1.pdf\n",
    " - Cox-PASNet: https://bmcmedgenomics.biomedcentral.com/articles/10.1186/s12920-019-0624-2\n",
    " \n",
    "Software:\n",
    " - https://github.com/havakv/pycox\n",
    " - https://github.com/jaredleekatzman/DeepSurv\n",
    " - https://pytorch.org/tutorials/\n",
    " - https://github.com/DataX-JieHao/Cox-PASNet"
   ]
  },
  {
   "cell_type": "markdown",
   "id": "d25c6fee",
   "metadata": {},
   "source": [
    "# PyCox\n",
    "Recreating this introduction to pycox\n",
    " - https://nbviewer.org/github/havakv/pycox/blob/master/examples/01_introduction.ipynb\n"
   ]
  },
  {
   "cell_type": "code",
   "execution_count": 100,
   "id": "ad98b3dc",
   "metadata": {},
   "outputs": [],
   "source": [
    "import torch\n",
    "import lifelines\n",
    "import numpy as np\n",
    "import torchtuples as tt \n",
    "import matplotlib.pyplot as plt\n",
    "\n",
    "from sklearn.preprocessing import StandardScaler\n",
    "\n",
    "from pycox.datasets import metabric\n",
    "from pycox.models import LogisticHazard\n",
    "from pycox.evaluation import EvalSurv"
   ]
  },
  {
   "cell_type": "code",
   "execution_count": 54,
   "id": "0d40d4e9",
   "metadata": {},
   "outputs": [],
   "source": [
    "np.random.seed(1234)\n",
    "_ = torch.manual_seed(123)"
   ]
  },
  {
   "cell_type": "code",
   "execution_count": 55,
   "id": "77acea4e",
   "metadata": {},
   "outputs": [],
   "source": [
    "df_train = metabric.read_df()\n",
    "df_test = df_train.sample(frac=0.2)\n",
    "df_train = df_train.drop(df_test.index)\n",
    "df_val = df_train.sample(frac=0.2)\n",
    "df_train = df_train.drop(df_val.index)"
   ]
  },
  {
   "cell_type": "code",
   "execution_count": 56,
   "id": "bb4dcba2",
   "metadata": {},
   "outputs": [],
   "source": [
    "cols_standardize = ['x0', 'x1', 'x2', 'x3', 'x8']\n",
    "cols_leave = ['x4', 'x5', 'x6', 'x7']"
   ]
  },
  {
   "cell_type": "code",
   "execution_count": 57,
   "id": "0ede3f44",
   "metadata": {},
   "outputs": [],
   "source": [
    "standardize = [([col], StandardScaler()) for col in cols_standardize]\n",
    "leave = [(col, None) for col in cols_leave]"
   ]
  },
  {
   "cell_type": "code",
   "execution_count": 58,
   "id": "1456f31a",
   "metadata": {},
   "outputs": [],
   "source": [
    "for row, scaler in standardize:\n",
    "    df_train[row] = scaler.fit_transform(df_train[row])\n",
    "    df_test[row] = scaler.transform(df_test[row])\n",
    "    df_val[row] = scaler.transform(df_val[row])\n"
   ]
  },
  {
   "cell_type": "code",
   "execution_count": 69,
   "id": "031630c5",
   "metadata": {},
   "outputs": [],
   "source": [
    "x_train = df_train[cols_standardize + cols_leave].astype('float32').to_numpy()\n",
    "x_test = df_test[cols_standardize + cols_leave].astype('float32').to_numpy()\n",
    "x_val = df_val[cols_standardize + cols_leave].astype('float32').to_numpy()"
   ]
  },
  {
   "cell_type": "markdown",
   "id": "bf0a64c7",
   "metadata": {},
   "source": [
    "## Label Transforms"
   ]
  },
  {
   "cell_type": "code",
   "execution_count": 70,
   "id": "a63e66b4",
   "metadata": {},
   "outputs": [],
   "source": [
    "num_durations = 10\n",
    "\n",
    "labtrans = LogisticHazard.label_transform(num_durations)\n",
    "# labtrans = PMF.label_transform(num_durations)\n",
    "# labtrans = DeepHitSingle.label_transform(num_durations)\n",
    "\n",
    "get_target = lambda df: (df['duration'].values, df['event'].values)\n",
    "y_train = labtrans.fit_transform(*get_target(df_train))\n",
    "y_val = labtrans.transform(*get_target(df_val))\n",
    "\n",
    "train = (x_train, y_train)\n",
    "val = (x_val, y_val)\n",
    "\n",
    "# We don't need to transform the test labels\n",
    "durations_test, events_test = get_target(df_test)"
   ]
  },
  {
   "cell_type": "markdown",
   "id": "f2e2bc00",
   "metadata": {},
   "source": [
    "## Model"
   ]
  },
  {
   "cell_type": "code",
   "execution_count": 84,
   "id": "17aa3078",
   "metadata": {},
   "outputs": [],
   "source": [
    "in_features = x_train.shape[1]\n",
    "num_nodes = [32, 32]\n",
    "out_features = labtrans.out_features\n",
    "batch_norm = True\n",
    "dropout = 0.1\n",
    "\n",
    "net = torch.nn.Sequential(\n",
    "    torch.nn.Linear(in_features, 32),\n",
    "     torch.nn.ReLU(),\n",
    "     torch.nn.BatchNorm1d(32),\n",
    "     torch.nn.Dropout(0.1),\n",
    "    \n",
    "     torch.nn.Linear(32, 32),\n",
    "     torch.nn.ReLU(),\n",
    "     torch.nn.BatchNorm1d(32),\n",
    "     torch.nn.Dropout(0.1),\n",
    "   \n",
    "     torch.nn.Linear(32, out_features)\n",
    ")"
   ]
  },
  {
   "cell_type": "code",
   "execution_count": 85,
   "id": "9ecf203a",
   "metadata": {},
   "outputs": [],
   "source": [
    "net = tt.practical.MLPVanilla(in_features, num_nodes, out_features, batch_norm, dropout)"
   ]
  },
  {
   "cell_type": "code",
   "execution_count": 86,
   "id": "47e1a333",
   "metadata": {},
   "outputs": [],
   "source": [
    "model = LogisticHazard(net, tt.optim.Adam(0.01), duration_index=labtrans.cuts)\n"
   ]
  },
  {
   "cell_type": "code",
   "execution_count": 87,
   "id": "72680bfe",
   "metadata": {},
   "outputs": [],
   "source": [
    "batch_size = 256 #256\n",
    "epochs = 100\n",
    "callbacks = [tt.cb.EarlyStopping()]"
   ]
  },
  {
   "cell_type": "code",
   "execution_count": 88,
   "id": "31f325c1",
   "metadata": {
    "scrolled": true
   },
   "outputs": [
    {
     "name": "stdout",
     "output_type": "stream",
     "text": [
      "0:\t[0s / 0s],\t\ttrain_loss: 2.8731,\tval_loss: 2.7017\n",
      "1:\t[0s / 0s],\t\ttrain_loss: 2.5565,\tval_loss: 2.3727\n",
      "2:\t[0s / 0s],\t\ttrain_loss: 2.2592,\tval_loss: 2.0692\n",
      "3:\t[0s / 0s],\t\ttrain_loss: 1.9764,\tval_loss: 1.7769\n",
      "4:\t[0s / 0s],\t\ttrain_loss: 1.7136,\tval_loss: 1.5631\n",
      "5:\t[0s / 0s],\t\ttrain_loss: 1.5196,\tval_loss: 1.4343\n",
      "6:\t[0s / 0s],\t\ttrain_loss: 1.4387,\tval_loss: 1.3869\n",
      "7:\t[0s / 0s],\t\ttrain_loss: 1.4022,\tval_loss: 1.3768\n",
      "8:\t[0s / 0s],\t\ttrain_loss: 1.3897,\tval_loss: 1.3791\n",
      "9:\t[0s / 0s],\t\ttrain_loss: 1.3650,\tval_loss: 1.3868\n",
      "10:\t[0s / 0s],\t\ttrain_loss: 1.3504,\tval_loss: 1.3786\n",
      "11:\t[0s / 0s],\t\ttrain_loss: 1.3370,\tval_loss: 1.3702\n",
      "12:\t[0s / 0s],\t\ttrain_loss: 1.3286,\tval_loss: 1.3670\n",
      "13:\t[0s / 0s],\t\ttrain_loss: 1.3295,\tval_loss: 1.3632\n",
      "14:\t[0s / 0s],\t\ttrain_loss: 1.3028,\tval_loss: 1.3644\n",
      "15:\t[0s / 0s],\t\ttrain_loss: 1.3035,\tval_loss: 1.3640\n",
      "16:\t[0s / 0s],\t\ttrain_loss: 1.2982,\tval_loss: 1.3652\n",
      "17:\t[0s / 0s],\t\ttrain_loss: 1.2936,\tval_loss: 1.3662\n",
      "18:\t[0s / 0s],\t\ttrain_loss: 1.2995,\tval_loss: 1.3735\n",
      "19:\t[0s / 0s],\t\ttrain_loss: 1.2940,\tval_loss: 1.3811\n",
      "20:\t[0s / 0s],\t\ttrain_loss: 1.2875,\tval_loss: 1.3797\n",
      "21:\t[0s / 0s],\t\ttrain_loss: 1.2870,\tval_loss: 1.3767\n",
      "22:\t[0s / 0s],\t\ttrain_loss: 1.2775,\tval_loss: 1.3803\n",
      "23:\t[0s / 0s],\t\ttrain_loss: 1.2629,\tval_loss: 1.3888\n"
     ]
    }
   ],
   "source": [
    "log = model.fit(x_train, y_train, batch_size, epochs, callbacks, val_data=val) # , callbacks, val_data=val)"
   ]
  },
  {
   "cell_type": "code",
   "execution_count": 89,
   "id": "08031e47",
   "metadata": {},
   "outputs": [
    {
     "data": {
      "text/plain": [
       "<AxesSubplot:>"
      ]
     },
     "execution_count": 89,
     "metadata": {},
     "output_type": "execute_result"
    },
    {
     "data": {
      "image/png": "[encoded data removed]",
      "text/plain": [
       "<Figure size 432x288 with 1 Axes>"
      ]
     },
     "metadata": {
      "needs_background": "light"
     },
     "output_type": "display_data"
    }
   ],
   "source": [
    "log.plot()"
   ]
  },
  {
   "cell_type": "code",
   "execution_count": 45,
   "id": "f2415f65",
   "metadata": {
    "collapsed": true
   },
   "outputs": [
    {
     "data": {
      "text/plain": [
       "(            x0        x1        x2        x3        x8   x4   x5   x6   x7\n",
       " 54   -0.384576 -0.893260 -0.742120  0.322306  0.277874  1.0  0.0  0.0  1.0\n",
       " 146  -0.366509 -0.316730  0.053808 -1.036320  1.078160  0.0  1.0  0.0  1.0\n",
       " 653  -0.565980 -0.831777 -0.983681  1.820763 -0.201838  1.0  1.0  1.0  1.0\n",
       " 1028 -0.400674  0.986373  0.650860 -0.847255  0.798136  1.0  0.0  0.0  1.0\n",
       " 526  -0.718365  1.075916  0.036073 -1.077208  0.733103  1.0  1.0  0.0  1.0\n",
       " ...        ...       ...       ...       ...       ...  ...  ...  ...  ...\n",
       " 1837 -0.756493 -0.233845  0.380975 -0.399857  0.988644  1.0  1.0  0.0  1.0\n",
       " 430  -0.573149  1.303744  0.337261 -0.611815  0.314598  0.0  0.0  0.0  1.0\n",
       " 325  -0.530273  0.555719  0.246153 -0.753846  1.070508  1.0  0.0  0.0  1.0\n",
       " 192  -0.831075  0.808999  0.569361  0.028037 -1.078633  0.0  0.0  0.0  1.0\n",
       " 1808 -0.732841  0.426104 -0.100611 -0.550813  0.678017  1.0  0.0  0.0  1.0\n",
       " \n",
       " [305 rows x 9 columns],\n",
       " (array([3, 2, 4, 2, 5, 3, 1, 3, 4, 1, 5, 1, 5, 3, 2, 1, 5, 3, 4, 0, 2, 5,\n",
       "         7, 5, 4, 3, 2, 4, 5, 6, 1, 1, 3, 7, 1, 1, 4, 2, 4, 6, 6, 1, 3, 6,\n",
       "         2, 2, 4, 1, 2, 3, 4, 2, 2, 5, 4, 1, 1, 3, 6, 1, 5, 2, 3, 6, 2, 5,\n",
       "         3, 2, 5, 4, 4, 4, 2, 1, 3, 2, 5, 2, 8, 4, 1, 2, 2, 2, 3, 2, 4, 1,\n",
       "         3, 3, 1, 2, 3, 1, 5, 2, 6, 2, 3, 3, 5, 2, 6, 2, 4, 5, 6, 3, 4, 2,\n",
       "         2, 4, 5, 5, 2, 2, 1, 2, 1, 3, 4, 5, 1, 4, 1, 4, 1, 6, 3, 4, 6, 6,\n",
       "         5, 1, 2, 7, 1, 3, 1, 2, 2, 4, 3, 7, 1, 5, 1, 1, 2, 1, 6, 4, 6, 2,\n",
       "         0, 4, 2, 2, 2, 6, 7, 5, 6, 4, 1, 4, 4, 1, 5, 4, 2, 3, 3, 5, 3, 3,\n",
       "         5, 6, 3, 2, 4, 3, 1, 2, 2, 3, 3, 2, 1, 4, 1, 3, 4, 3, 3, 4, 5, 4,\n",
       "         2, 7, 3, 3, 2, 4, 4, 2, 2, 3, 6, 1, 3, 2, 6, 6, 5, 2, 2, 3, 4, 3,\n",
       "         1, 6, 1, 4, 2, 1, 5, 3, 2, 5, 2, 3, 4, 3, 5, 5, 5, 1, 1, 1, 3, 6,\n",
       "         2, 1, 5, 1, 4, 1, 6, 6, 6, 3, 3, 5, 7, 2, 2, 5, 6, 3, 7, 4, 4, 5,\n",
       "         1, 2, 2, 7, 4, 1, 5, 3, 3, 3, 1, 4, 2, 3, 5, 1, 2, 7, 2, 3, 4, 6,\n",
       "         5, 0, 2, 5, 3, 3, 3, 2, 2, 4, 3, 1, 2, 2, 5, 4, 1, 7, 1]),\n",
       "  array([1., 1., 1., 0., 1., 0., 1., 0., 1., 1., 0., 1., 1., 0., 0., 1., 1.,\n",
       "         1., 1., 0., 1., 0., 1., 1., 0., 1., 0., 1., 0., 1., 0., 1., 0., 0.,\n",
       "         0., 0., 1., 1., 1., 0., 0., 1., 1., 1., 0., 1., 1., 0., 0., 0., 1.,\n",
       "         0., 1., 1., 1., 0., 1., 1., 0., 0., 1., 0., 1., 1., 0., 0., 0., 0.,\n",
       "         0., 1., 0., 0., 1., 1., 0., 1., 0., 1., 1., 0., 1., 1., 0., 1., 1.,\n",
       "         1., 0., 1., 0., 1., 1., 1., 0., 1., 1., 0., 0., 0., 1., 1., 0., 1.,\n",
       "         0., 1., 1., 0., 0., 1., 0., 0., 0., 0., 1., 1., 1., 1., 0., 1., 0.,\n",
       "         0., 0., 0., 1., 1., 1., 0., 1., 0., 1., 1., 1., 0., 1., 1., 1., 1.,\n",
       "         1., 0., 1., 0., 0., 0., 1., 0., 1., 0., 0., 0., 1., 0., 0., 0., 1.,\n",
       "         1., 0., 0., 1., 0., 0., 1., 0., 0., 0., 1., 1., 0., 0., 0., 0., 0.,\n",
       "         1., 0., 0., 1., 1., 1., 1., 0., 0., 1., 0., 1., 1., 1., 1., 1., 1.,\n",
       "         0., 0., 1., 1., 1., 0., 0., 1., 0., 0., 1., 1., 0., 0., 1., 1., 0.,\n",
       "         1., 1., 1., 0., 0., 0., 0., 0., 0., 1., 1., 0., 1., 1., 1., 1., 1.,\n",
       "         0., 0., 0., 0., 1., 1., 1., 0., 0., 0., 0., 0., 1., 0., 1., 0., 1.,\n",
       "         1., 1., 0., 0., 1., 1., 1., 1., 1., 1., 0., 0., 0., 0., 0., 0., 1.,\n",
       "         1., 1., 1., 0., 1., 1., 0., 0., 1., 1., 0., 0., 0., 0., 1., 1., 1.,\n",
       "         0., 1., 0., 0., 1., 1., 0., 1., 1., 1., 1., 0., 1., 0., 0., 0., 1.,\n",
       "         1., 1., 1., 0., 0., 1., 0., 0., 1., 1., 1., 1., 1., 1., 0., 0.],\n",
       "        dtype=float32)))"
      ]
     },
     "execution_count": 45,
     "metadata": {},
     "output_type": "execute_result"
    }
   ],
   "source": [
    "val"
   ]
  },
  {
   "cell_type": "code",
   "execution_count": 78,
   "id": "9de508c2",
   "metadata": {},
   "outputs": [
    {
     "data": {
      "text/plain": [
       "(1218, 9)"
      ]
     },
     "execution_count": 78,
     "metadata": {},
     "output_type": "execute_result"
    }
   ],
   "source": [
    "x_train.shape"
   ]
  },
  {
   "cell_type": "markdown",
   "id": "de523696",
   "metadata": {},
   "source": [
    "# Prediction"
   ]
  },
  {
   "cell_type": "code",
   "execution_count": 90,
   "id": "72b24f38",
   "metadata": {},
   "outputs": [],
   "source": [
    "surv = model.predict_surv_df(x_test)"
   ]
  },
  {
   "cell_type": "code",
   "execution_count": 91,
   "id": "02279e25",
   "metadata": {},
   "outputs": [
    {
     "data": {
      "image/png": "[encoded data removed]",
      "text/plain": [
       "<Figure size 432x288 with 1 Axes>"
      ]
     },
     "metadata": {
      "needs_background": "light"
     },
     "output_type": "display_data"
    }
   ],
   "source": [
    "surv.iloc[:, :5].plot(drawstyle='steps-post')\n",
    "plt.ylabel('S(t | x)')\n",
    "_ = plt.xlabel('Time')"
   ]
  },
  {
   "cell_type": "code",
   "execution_count": 92,
   "id": "9f2b77cb",
   "metadata": {},
   "outputs": [],
   "source": [
    "surv = model.interpolate(10).predict_surv_df(x_test)"
   ]
  },
  {
   "cell_type": "code",
   "execution_count": 93,
   "id": "5d24be91",
   "metadata": {},
   "outputs": [
    {
     "data": {
      "image/png": "[encoded data removed]",
      "text/plain": [
       "<Figure size 432x288 with 1 Axes>"
      ]
     },
     "metadata": {
      "needs_background": "light"
     },
     "output_type": "display_data"
    }
   ],
   "source": [
    "surv.iloc[:, :5].plot(drawstyle='steps-post')\n",
    "plt.ylabel('S(t | x)')\n",
    "_ = plt.xlabel('Time')"
   ]
  },
  {
   "cell_type": "code",
   "execution_count": 94,
   "id": "0561d89c",
   "metadata": {},
   "outputs": [],
   "source": [
    "ev = EvalSurv(surv, durations_test, events_test, censor_surv='km')"
   ]
  },
  {
   "cell_type": "code",
   "execution_count": 95,
   "id": "9ca84cf1",
   "metadata": {},
   "outputs": [
    {
     "name": "stderr",
     "output_type": "stream",
     "text": [
      "OMP: Info #271: omp_set_nested routine deprecated, please use omp_set_max_active_levels instead.\n"
     ]
    },
    {
     "data": {
      "text/plain": [
       "0.664589427275425"
      ]
     },
     "execution_count": 95,
     "metadata": {},
     "output_type": "execute_result"
    }
   ],
   "source": [
    "ev.concordance_td('antolini')"
   ]
  },
  {
   "cell_type": "code",
   "execution_count": 98,
   "id": "63def7b6",
   "metadata": {},
   "outputs": [],
   "source": [
    "EvalSurv?"
   ]
  },
  {
   "cell_type": "code",
   "execution_count": null,
   "id": "31aabd05",
   "metadata": {},
   "outputs": [],
   "source": []
  }
 ],
 "metadata": {
  "kernelspec": {
   "display_name": "Python 3 (ipykernel)",
   "language": "python",
   "name": "python3"
  },
  "language_info": {
   "codemirror_mode": {
    "name": "ipython",
    "version": 3
   },
   "file_extension": ".py",
   "mimetype": "text/x-python",
   "name": "python",
   "nbconvert_exporter": "python",
   "pygments_lexer": "ipython3",
   "version": "3.7.13"
  },
  "toc": {
   "base_numbering": 1,
   "nav_menu": {},
   "number_sections": true,
   "sideBar": true,
   "skip_h1_title": false,
   "title_cell": "Table of Contents",
   "title_sidebar": "Contents",
   "toc_cell": false,
   "toc_position": {},
   "toc_section_display": true,
   "toc_window_display": true
  }
 },
 "nbformat": 4,
 "nbformat_minor": 5
}
