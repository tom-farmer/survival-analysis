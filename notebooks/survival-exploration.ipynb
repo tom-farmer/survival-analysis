{
 "cells": [
  {
   "cell_type": "markdown",
   "id": "d41d22c8-2f9b-400c-8a7b-2c47161b2935",
   "metadata": {
    "tags": []
   },
   "source": [
    "# Survival Analysis Exploration"
   ]
  },
  {
   "cell_type": "markdown",
   "id": "52ba9ab2",
   "metadata": {},
   "source": [
    "## Python Survival Packages\n",
    " - [scikit-survival](https://scikit-survival.readthedocs.io/en/stable/index.html): This seems like the best library with ML survival methods.  It is under active development.  Stylistically and technically consistent with sklearn.  It does seem somewhat immature with some key things not implemented yet like some feature importances, some features associated with ensemble tree methods like warm start gradient boosting, etc.\n",
    " - [pysurvival](https://square.github.io/pysurvival/): This library has a decent amount of base survival functionality but doesn't seem to be active.  No commits have been made since 2019.\n",
    " - [lifelines](https://lifelines.readthedocs.io/en/latest/index.html): This seems to be a really robust package under active development that has solid survival analysis basics.  It's missing some ML methods and ensemble methods but is likely a better choice for basic models like Cox and paremetric regressions.  Seems more 'statistics-flavored' rather than 'ML-flavored' "
   ]
  },
  {
   "cell_type": "markdown",
   "id": "7a236e9a",
   "metadata": {},
   "source": [
    "Adapted this code from the Scikit-Survival documentation here:\n",
    " * https://scikit-survival.readthedocs.io/en/stable/user_guide/00-introduction.html\n",
    "\n",
    "Used a different larger test dataset from the package in order to have some different results.\n",
    "\n",
    "`conda env export > environment.yml`"
   ]
  },
  {
   "cell_type": "markdown",
   "id": "e0125e74-e413-46b5-896c-895301071ee8",
   "metadata": {
    "tags": []
   },
   "source": [
    "## Imports and Data Preprocessing"
   ]
  },
  {
   "cell_type": "code",
   "execution_count": 24,
   "id": "adb67953-fb95-4381-a290-79ec4cf17145",
   "metadata": {},
   "outputs": [],
   "source": [
    "import lifelines\n",
    "import pandas as pd\n",
    "import numpy as np\n",
    "import matplotlib.pyplot as plt\n",
    "import seaborn as sns\n",
    "\n",
    "from sklearn.model_selection import train_test_split\n",
    "from sksurv.datasets import load_flchain\n",
    "from sksurv.preprocessing import OneHotEncoder\n",
    "from sksurv.nonparametric import kaplan_meier_estimator\n",
    "from sksurv.linear_model import CoxPHSurvivalAnalysis\n",
    "\n",
    "from lifelines import CoxPHFitter\n",
    "from lifelines import CoxTimeVaryingFitter"
   ]
  },
  {
   "cell_type": "code",
   "execution_count": 25,
   "id": "51a52570-9bfd-4134-a5ef-8b73bb5eb4bb",
   "metadata": {},
   "outputs": [
    {
     "name": "stdout",
     "output_type": "stream",
     "text": [
      "Index(['age', 'chapter', 'creatinine', 'flc.grp', 'kappa', 'lambda', 'mgus',\n",
      "       'sample.yr', 'sex'],\n",
      "      dtype='object')\n",
      "<class 'pandas.core.frame.DataFrame'>\n",
      "RangeIndex: 7874 entries, 0 to 7873\n",
      "Data columns (total 9 columns):\n",
      " #   Column      Non-Null Count  Dtype   \n",
      "---  ------      --------------  -----   \n",
      " 0   age         7874 non-null   float64 \n",
      " 1   chapter     2169 non-null   category\n",
      " 2   creatinine  6524 non-null   float64 \n",
      " 3   flc.grp     7874 non-null   category\n",
      " 4   kappa       7874 non-null   float64 \n",
      " 5   lambda      7874 non-null   float64 \n",
      " 6   mgus        7874 non-null   category\n",
      " 7   sample.yr   7874 non-null   category\n",
      " 8   sex         7874 non-null   category\n",
      "dtypes: category(5), float64(4)\n",
      "memory usage: 286.3 KB\n"
     ]
    }
   ],
   "source": [
    "X, y = load_flchain()\n",
    "print(X.columns)\n",
    "X.info()"
   ]
  },
  {
   "cell_type": "code",
   "execution_count": 44,
   "id": "b208d918",
   "metadata": {},
   "outputs": [],
   "source": [
    "df = X.merge(pd.DataFrame(y), left_index=True, right_index=True)"
   ]
  },
  {
   "cell_type": "code",
   "execution_count": 4,
   "id": "baae46fd",
   "metadata": {},
   "outputs": [
    {
     "data": {
      "text/plain": [
       "<AxesSubplot:xlabel='sample.yr', ylabel='Count'>"
      ]
     },
     "execution_count": 4,
     "metadata": {},
     "output_type": "execute_result"
    },
    {
     "data": {
      "image/png": "[encoded data removed]",
      "text/plain": [
       "<Figure size 432x288 with 1 Axes>"
      ]
     },
     "metadata": {
      "needs_background": "light"
     },
     "output_type": "display_data"
    }
   ],
   "source": [
    "sns.histplot(X[\"sample.yr\"])"
   ]
  },
  {
   "cell_type": "code",
   "execution_count": 5,
   "id": "4548bed5",
   "metadata": {},
   "outputs": [
    {
     "data": {
      "text/plain": [
       "<AxesSubplot:xlabel='creatinine', ylabel='Count'>"
      ]
     },
     "execution_count": 5,
     "metadata": {},
     "output_type": "execute_result"
    },
    {
     "data": {
      "image/png": "[encoded data removed]",
      "text/plain": [
       "<Figure size 432x288 with 1 Axes>"
      ]
     },
     "metadata": {
      "needs_background": "light"
     },
     "output_type": "display_data"
    }
   ],
   "source": [
    "sns.histplot(X[\"creatinine\"])"
   ]
  },
  {
   "cell_type": "code",
   "execution_count": 6,
   "id": "42687249",
   "metadata": {},
   "outputs": [
    {
     "data": {
      "text/plain": [
       "<AxesSubplot:xlabel='age', ylabel='Count'>"
      ]
     },
     "execution_count": 6,
     "metadata": {},
     "output_type": "execute_result"
    },
    {
     "data": {
      "image/png": "[encoded data removed]",
      "text/plain": [
       "<Figure size 432x288 with 1 Axes>"
      ]
     },
     "metadata": {
      "needs_background": "light"
     },
     "output_type": "display_data"
    }
   ],
   "source": [
    "sns.histplot(X[\"age\"])"
   ]
  },
  {
   "cell_type": "code",
   "execution_count": 7,
   "id": "06989723",
   "metadata": {},
   "outputs": [
    {
     "data": {
      "text/plain": [
       "<AxesSubplot:xlabel='lambda', ylabel='Count'>"
      ]
     },
     "execution_count": 7,
     "metadata": {},
     "output_type": "execute_result"
    },
    {
     "data": {
      "image/png": "[encoded data removed]",
      "text/plain": [
       "<Figure size 432x288 with 1 Axes>"
      ]
     },
     "metadata": {
      "needs_background": "light"
     },
     "output_type": "display_data"
    }
   ],
   "source": [
    "sns.histplot(X[\"lambda\"])"
   ]
  },
  {
   "cell_type": "markdown",
   "id": "d6a3c0b5",
   "metadata": {},
   "source": [
    "Some observations on the data:\n",
    " - age, kappa, and lambda are all numeric with no missing values so no pre-processing needed right now.  Maybe bucketing ages later?\n",
    " - Need to deal with missing values in creatinine and chapter.  Creatinine is numeric so likely use median?  Chapter is categorical so I can treat the missing as a category when I one-hot-encode.  May not be appropriate, need to research data.\n",
    " - Creatinine and lambda seem a bit right-skewed, consider ln or box cox to remove skew\n",
    " - Need to one-hot encode chapter, flc.grp, mgus, and sex"
   ]
  },
  {
   "cell_type": "code",
   "execution_count": 8,
   "id": "8c988843",
   "metadata": {
    "scrolled": true
   },
   "outputs": [],
   "source": [
    "X[\"chapter\"] = X[\"chapter\"].cat.add_categories([\"None\"]).fillna(\"None\")\n",
    "X[\"creatinine\"] = X[\"creatinine\"].fillna(X[\"creatinine\"].median())\n",
    "X[\"sample.yr\"] = X[\"sample.yr\"].astype(int)"
   ]
  },
  {
   "cell_type": "code",
   "execution_count": 9,
   "id": "a7e5b83f",
   "metadata": {},
   "outputs": [],
   "source": [
    "# Removing right skew with log transforms.  CPH performance improved with these changes\n",
    "X[\"lambda\"] = np.log(X[\"lambda\"])\n",
    "X[\"creatinine\"] = np.log(X[\"creatinine\"])"
   ]
  },
  {
   "cell_type": "code",
   "execution_count": 10,
   "id": "44247e61",
   "metadata": {},
   "outputs": [
    {
     "data": {
      "text/plain": [
       "Index(['chapter=Circulatory', 'chapter=Congenital', 'chapter=Digestive',\n",
       "       'chapter=Endocrine', 'chapter=External Causes', 'chapter=Genitourinary',\n",
       "       'chapter=Ill Defined', 'chapter=Infectious',\n",
       "       'chapter=Injury and Poisoning', 'chapter=Mental',\n",
       "       'chapter=Musculoskeletal', 'chapter=Neoplasms', 'chapter=Nervous',\n",
       "       'chapter=Respiratory', 'chapter=Skin', 'chapter=None', 'flc.grp=2',\n",
       "       'flc.grp=3', 'flc.grp=4', 'flc.grp=5', 'flc.grp=6', 'flc.grp=7',\n",
       "       'flc.grp=8', 'flc.grp=9', 'flc.grp=10', 'mgus=yes', 'sex=M'],\n",
       "      dtype='object')"
      ]
     },
     "execution_count": 10,
     "metadata": {},
     "output_type": "execute_result"
    }
   ],
   "source": [
    "# One hot encode the appropriate categorical variables\n",
    "X_ohes = OneHotEncoder().fit_transform(X[['chapter', 'flc.grp', 'mgus', 'sex']])\n",
    "X_ohes.columns"
   ]
  },
  {
   "cell_type": "code",
   "execution_count": 11,
   "id": "26526d57",
   "metadata": {},
   "outputs": [],
   "source": [
    "X_processed = pd.concat([X_ohes, X[[\"age\", \"kappa\", \"lambda\", \"sample.yr\", \"creatinine\"]]], axis = 1)"
   ]
  },
  {
   "cell_type": "code",
   "execution_count": 12,
   "id": "90f5a9f2",
   "metadata": {},
   "outputs": [],
   "source": [
    "X_train, X_test, y_train, y_test = train_test_split(X_processed, y, test_size = 0.3, random_state = 56)"
   ]
  },
  {
   "cell_type": "markdown",
   "id": "93b517c8-4814-43e5-9f83-64bd89745f8a",
   "metadata": {},
   "source": [
    "## Kaplan-Meier Estimator"
   ]
  },
  {
   "cell_type": "code",
   "execution_count": 13,
   "id": "0adef703-6173-4fa6-a426-56dda4046f96",
   "metadata": {},
   "outputs": [
    {
     "data": {
      "text/plain": [
       "Text(0.5, 0, 'time $t$')"
      ]
     },
     "execution_count": 13,
     "metadata": {},
     "output_type": "execute_result"
    },
    {
     "data": {
      "image/png": "[encoded data removed]",
      "text/plain": [
       "<Figure size 432x288 with 1 Axes>"
      ]
     },
     "metadata": {
      "needs_background": "light"
     },
     "output_type": "display_data"
    }
   ],
   "source": [
    "time, survival_prob = kaplan_meier_estimator(y[\"death\"], y[\"futime\"])\n",
    "plt.step(time, survival_prob, where=\"post\")\n",
    "plt.ylabel(\"est. probability of survival $\\hat{S}(t)$\")\n",
    "plt.xlabel(\"time $t$\")"
   ]
  },
  {
   "cell_type": "markdown",
   "id": "a8dbd5c3-eba3-40ae-aa43-c2e2180195fe",
   "metadata": {},
   "source": [
    "Fit KM for two different categories in the data.  This code is quite a bit more manual and verbose than how it's implemented in R.  This would be a pain to do for another factor on top of this one.  "
   ]
  },
  {
   "cell_type": "code",
   "execution_count": 22,
   "id": "0ebd762b-4212-42b9-b6cc-9f586cc3d7b5",
   "metadata": {},
   "outputs": [
    {
     "data": {
      "text/plain": [
       "<matplotlib.legend.Legend at 0x7f7b6b805250>"
      ]
     },
     "execution_count": 22,
     "metadata": {},
     "output_type": "execute_result"
    },
    {
     "data": {
      "image/png": "[encoded data removed]",
      "text/plain": [
       "<Figure size 432x288 with 1 Axes>"
      ]
     },
     "metadata": {
      "needs_background": "light"
     },
     "output_type": "display_data"
    }
   ],
   "source": [
    "for sex in X.sex.unique():\n",
    "    filt = X[\"sex\"] == sex\n",
    "    time, survival_prob = kaplan_meier_estimator(y[\"death\"][filt], y[\"futime\"][filt])\n",
    "    \n",
    "    plt.step(time, survival_prob, where=\"post\",\n",
    "             label=\"Sex = %s\" % sex)\n",
    "\n",
    "plt.ylabel(\"est. probability of survival $\\hat{S}(t)$\")\n",
    "plt.xlabel(\"time $t$\")\n",
    "plt.legend(loc=\"best\")"
   ]
  },
  {
   "cell_type": "markdown",
   "id": "02230c0a-4f0e-4afa-8bf7-8a86bafc48c0",
   "metadata": {},
   "source": [
    "Prep the data to fix a CPH model.  First need to determine what to do with NA values.  The continuous variable creatinine is missing 1350/7874 values for creatinine.  The discrete variable chapter is missing 5705/7874 values.  Chapter appears to be the ICD cause of death, so it is only populated for records where there was a death.  We can't use this variable for modeling since we only know the cause of death after death happens."
   ]
  },
  {
   "cell_type": "code",
   "execution_count": 15,
   "id": "af589c6b-7944-413e-949e-fad21a58aae0",
   "metadata": {},
   "outputs": [
    {
     "data": {
      "text/plain": [
       "age           0\n",
       "chapter       0\n",
       "creatinine    0\n",
       "flc.grp       0\n",
       "kappa         0\n",
       "lambda        0\n",
       "mgus          0\n",
       "sample.yr     0\n",
       "sex           0\n",
       "dtype: int64"
      ]
     },
     "execution_count": 15,
     "metadata": {},
     "output_type": "execute_result"
    }
   ],
   "source": [
    "X.isna().sum()"
   ]
  },
  {
   "cell_type": "markdown",
   "id": "44c1b73a-8654-463e-a325-212e0cd08020",
   "metadata": {},
   "source": [
    "For creatinine, we could either exclude the records with missing creatinine or look to impute values of creatinine.  First, I want to understand whether or not there is a difference in survival outcomes for records with missing creatinine vs non-missing creatinine. "
   ]
  },
  {
   "cell_type": "code",
   "execution_count": 23,
   "id": "65df06cf-d27b-4c69-bddf-9a006ada6135",
   "metadata": {},
   "outputs": [
    {
     "data": {
      "text/plain": [
       "<matplotlib.legend.Legend at 0x7f7b690fefa0>"
      ]
     },
     "execution_count": 23,
     "metadata": {},
     "output_type": "execute_result"
    },
    {
     "data": {
      "image/png": "[encoded data removed]",
      "text/plain": [
       "<Figure size 432x288 with 1 Axes>"
      ]
     },
     "metadata": {
      "needs_background": "light"
     },
     "output_type": "display_data"
    }
   ],
   "source": [
    "for val in [\"na\", \"not-na\"]:\n",
    "    if val == \"na\":\n",
    "        filt = X[\"creatinine\"].isna()\n",
    "    else: \n",
    "        filt = ~X[\"creatinine\"].isna()\n",
    "    time, survival_prob = kaplan_meier_estimator(y[\"death\"][filt], y[\"futime\"][filt])\n",
    "    \n",
    "    plt.step(time, survival_prob, where=\"post\",\n",
    "             label=\"Creatinine = %s\" % val)\n",
    "\n",
    "plt.ylabel(\"est. probability of survival $\\hat{S}(t)$\")\n",
    "plt.xlabel(\"time $t$\")\n",
    "plt.legend(loc=\"best\")"
   ]
  },
  {
   "cell_type": "markdown",
   "id": "be614279-b72a-4221-9e7b-069dc7531cf2",
   "metadata": {},
   "source": [
    "From the KM analysis, it appears that for missing values of creatinine, survival is significanly higher. This means there is likely a structural reason that creatinine is missing from these records.  For the initial model, I'm going to exclude this variable"
   ]
  },
  {
   "cell_type": "markdown",
   "id": "01e90e38",
   "metadata": {},
   "source": [
    "## Cox Proportional Hazard Regression"
   ]
  },
  {
   "cell_type": "code",
   "execution_count": 63,
   "id": "570b6d81-dd85-41a3-b91d-f5359df66104",
   "metadata": {},
   "outputs": [
    {
     "data": {
      "text/plain": [
       "CoxPHSurvivalAnalysis(alpha=0.0001)"
      ]
     },
     "execution_count": 63,
     "metadata": {},
     "output_type": "execute_result"
    }
   ],
   "source": [
    "cph = CoxPHSurvivalAnalysis(alpha = 0.0001)\n",
    "cph.fit(X_train[[\"age\", \"kappa\"]], y_train)"
   ]
  },
  {
   "cell_type": "code",
   "execution_count": 65,
   "id": "6a1e06de-9843-4c44-9303-2f4536848819",
   "metadata": {},
   "outputs": [
    {
     "data": {
      "text/plain": [
       "0.7891798801885318"
      ]
     },
     "execution_count": 65,
     "metadata": {},
     "output_type": "execute_result"
    }
   ],
   "source": [
    "cph.score(X_test[[\"age\", \"kappa\"]], y_test)\n",
    "# 0.9357476907520315"
   ]
  },
  {
   "cell_type": "markdown",
   "id": "c990aef8",
   "metadata": {},
   "source": [
    "## CPH with Splines\n",
    "https://lifelines.readthedocs.io/en/latest/jupyter_notebooks/Custom%20Regression%20Models.html?highlight=spline#Spline-models"
   ]
  },
  {
   "cell_type": "code",
   "execution_count": 45,
   "id": "4f4ae1f3",
   "metadata": {},
   "outputs": [],
   "source": [
    "train, test = train_test_split(df, test_size = 0.3, random_state = 56)"
   ]
  },
  {
   "cell_type": "code",
   "execution_count": 99,
   "id": "139f04d5",
   "metadata": {},
   "outputs": [],
   "source": [
    "cph = CoxPHFitter().fit(train, \"futime\", \"death\", formula=\"bs(age, df=4) + kappa\")\n",
    "# \"bs(age, df=4) + kappa + lambda + sample.yr\""
   ]
  },
  {
   "cell_type": "code",
   "execution_count": 112,
   "id": "5600e27c",
   "metadata": {},
   "outputs": [],
   "source": [
    "cph = CoxPHFitter().fit(train, \"futime\", \"death\", formula=\"age + kappa\")\n"
   ]
  },
  {
   "cell_type": "code",
   "execution_count": 113,
   "id": "8844e421",
   "metadata": {},
   "outputs": [
    {
     "data": {
      "text/plain": [
       "0.7891798801885318"
      ]
     },
     "execution_count": 113,
     "metadata": {},
     "output_type": "execute_result"
    }
   ],
   "source": [
    "cph.score(test, scoring_method = 'concordance_index')"
   ]
  },
  {
   "cell_type": "code",
   "execution_count": 122,
   "id": "31ccbef4",
   "metadata": {
    "scrolled": true
   },
   "outputs": [
    {
     "data": {
      "text/plain": [
       "<AxesSubplot:>"
      ]
     },
     "execution_count": 122,
     "metadata": {},
     "output_type": "execute_result"
    },
    {
     "data": {
      "image/png": "[encoded data removed]",
      "text/plain": [
       "<Figure size 432x288 with 1 Axes>"
      ]
     },
     "metadata": {
      "needs_background": "light"
     },
     "output_type": "display_data"
    }
   ],
   "source": [
    "cph.plot_partial_effects_on_outcome(\"age\", values=[71])"
   ]
  },
  {
   "cell_type": "code",
   "execution_count": null,
   "id": "785719ac",
   "metadata": {},
   "outputs": [],
   "source": [
    "cph.predict_partial_hazard()"
   ]
  },
  {
   "cell_type": "markdown",
   "id": "8512ad61",
   "metadata": {},
   "source": [
    "## Random Survival Forests"
   ]
  },
  {
   "cell_type": "code",
   "execution_count": 64,
   "id": "274ae43a",
   "metadata": {},
   "outputs": [],
   "source": [
    "from sksurv.ensemble import RandomSurvivalForest"
   ]
  },
  {
   "cell_type": "code",
   "execution_count": 65,
   "id": "a9d96ada",
   "metadata": {},
   "outputs": [],
   "source": [
    "estimator = RandomSurvivalForest(n_estimators = 1000,\n",
    "                                 min_samples_leaf = 2,\n",
    "                                 max_features = \"sqrt\",\n",
    "                                 max_samples = 0.1,\n",
    "                                 bootstrap = True,\n",
    "                                 n_jobs = 7,\n",
    "                                 verbose = 1,\n",
    "                                 random_state = 56)"
   ]
  },
  {
   "cell_type": "code",
   "execution_count": 66,
   "id": "df0eb318",
   "metadata": {},
   "outputs": [
    {
     "name": "stderr",
     "output_type": "stream",
     "text": [
      "[Parallel(n_jobs=7)]: Using backend ThreadingBackend with 7 concurrent workers.\n",
      "[Parallel(n_jobs=7)]: Done  36 tasks      | elapsed:    0.2s\n",
      "[Parallel(n_jobs=7)]: Done 186 tasks      | elapsed:    1.5s\n",
      "[Parallel(n_jobs=7)]: Done 436 tasks      | elapsed:    3.4s\n",
      "[Parallel(n_jobs=7)]: Done 786 tasks      | elapsed:    6.0s\n",
      "[Parallel(n_jobs=7)]: Done 1000 out of 1000 | elapsed:    7.8s finished\n"
     ]
    },
    {
     "data": {
      "text/plain": [
       "RandomSurvivalForest(max_features='sqrt', max_samples=0.1, min_samples_leaf=2,\n",
       "                     n_estimators=1000, n_jobs=7, random_state=56, verbose=1)"
      ]
     },
     "execution_count": 66,
     "metadata": {},
     "output_type": "execute_result"
    }
   ],
   "source": [
    "estimator.fit(X_train, y_train)"
   ]
  },
  {
   "cell_type": "code",
   "execution_count": 67,
   "id": "eefb3ba5",
   "metadata": {},
   "outputs": [
    {
     "name": "stdout",
     "output_type": "stream",
     "text": [
      "Train Score:  0.9431314726537451\n",
      "Test Score:  0.9341228183968148\n"
     ]
    }
   ],
   "source": [
    "estimator.verbose = 0\n",
    "print(\"Train Score: \", estimator.score(X_train, y_train))\n",
    "print(\"Test Score: \", estimator.score(X_test, y_test))\n",
    "#Train Score:  0.9431387630037822\n",
    "#Test Score:  0.9341502599463144\n"
   ]
  },
  {
   "cell_type": "markdown",
   "id": "26b0b23c",
   "metadata": {},
   "source": [
    "## Gradient Boosted Tree Models"
   ]
  },
  {
   "cell_type": "code",
   "execution_count": 68,
   "id": "e86a0a19",
   "metadata": {},
   "outputs": [],
   "source": [
    "from sksurv.ensemble import GradientBoostingSurvivalAnalysis"
   ]
  },
  {
   "cell_type": "code",
   "execution_count": 72,
   "id": "ebe3e0a7",
   "metadata": {},
   "outputs": [],
   "source": [
    "estimator = GradientBoostingSurvivalAnalysis(n_estimators = 500,\n",
    "                                             learning_rate = 0.1,\n",
    "                                             verbose = 1,\n",
    "                                             random_state = 56,\n",
    "                                             max_features = \"sqrt\",\n",
    "                                             subsample = 0.3)"
   ]
  },
  {
   "cell_type": "code",
   "execution_count": 73,
   "id": "bdb2cd83",
   "metadata": {
    "scrolled": false
   },
   "outputs": [
    {
     "name": "stdout",
     "output_type": "stream",
     "text": [
      "      Iter       Train Loss      OOB Improve   Remaining Time \n",
      "         1        3307.4102          22.0019            2.83m\n",
      "         2        3402.8593          35.7648            2.91m\n",
      "         3        3255.4294          32.4242            2.90m\n",
      "         4        3233.1090          24.4516            2.90m\n",
      "         5        3237.7029          29.0091            2.90m\n",
      "         6        3157.2566          38.1562            2.88m\n",
      "         7        3100.2434          28.2093            2.88m\n",
      "         8        2874.1364          17.0898            2.89m\n",
      "         9        3165.0194          40.9808            2.88m\n",
      "        10        3035.9300          51.4690            2.89m\n",
      "        20        2788.4575          69.8953            2.85m\n",
      "        30        2717.1215          47.3913            2.82m\n",
      "        40        2680.0664          10.9275            2.78m\n",
      "        50        2583.8611           4.8474            2.75m\n",
      "        60        2650.4100          17.0003            2.70m\n",
      "        70        2390.9016          12.9422            2.65m\n",
      "        80        2471.8376           3.4692            2.60m\n",
      "        90        2512.4274           1.5318            2.53m\n",
      "       100        2329.4887           6.5909            2.48m\n",
      "       200        2145.6166           0.2647            1.85m\n",
      "       300        2347.8136           0.6110            1.23m\n",
      "       400        2396.6260           0.1453           37.31s\n",
      "       500        2268.1280          -0.8351            0.00s\n"
     ]
    },
    {
     "data": {
      "text/plain": [
       "GradientBoostingSurvivalAnalysis(max_features='sqrt', n_estimators=500,\n",
       "                                 random_state=56, subsample=0.3, verbose=1)"
      ]
     },
     "execution_count": 73,
     "metadata": {},
     "output_type": "execute_result"
    }
   ],
   "source": [
    "estimator.fit(X_train, y_train)"
   ]
  },
  {
   "cell_type": "code",
   "execution_count": 74,
   "id": "32db6779",
   "metadata": {
    "scrolled": false
   },
   "outputs": [
    {
     "name": "stdout",
     "output_type": "stream",
     "text": [
      "Train Score:  0.9474260963547338\n",
      "Test Score:  0.9362749011272656\n"
     ]
    }
   ],
   "source": [
    "estimator.verbose = 0\n",
    "print(\"Train Score: \", estimator.score(X_train, y_train))\n",
    "print(\"Test Score: \", estimator.score(X_test, y_test))\n"
   ]
  },
  {
   "cell_type": "code",
   "execution_count": null,
   "id": "dea6cb8d",
   "metadata": {},
   "outputs": [],
   "source": []
  }
 ],
 "metadata": {
  "kernelspec": {
   "display_name": "Python 3 (ipykernel)",
   "language": "python",
   "name": "python3"
  },
  "language_info": {
   "codemirror_mode": {
    "name": "ipython",
    "version": 3
   },
   "file_extension": ".py",
   "mimetype": "text/x-python",
   "name": "python",
   "nbconvert_exporter": "python",
   "pygments_lexer": "ipython3",
   "version": "3.9.7"
  },
  "toc": {
   "base_numbering": 1,
   "nav_menu": {},
   "number_sections": true,
   "sideBar": true,
   "skip_h1_title": false,
   "title_cell": "Table of Contents",
   "title_sidebar": "Contents",
   "toc_cell": false,
   "toc_position": {
    "height": "calc(100% - 180px)",
    "left": "10px",
    "top": "150px",
    "width": "288px"
   },
   "toc_section_display": true,
   "toc_window_display": true
  }
 },
 "nbformat": 4,
 "nbformat_minor": 5
}
