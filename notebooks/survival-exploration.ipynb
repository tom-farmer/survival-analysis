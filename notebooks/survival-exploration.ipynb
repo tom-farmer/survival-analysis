{
 "cells": [
  {
   "cell_type": "markdown",
   "id": "d41d22c8-2f9b-400c-8a7b-2c47161b2935",
   "metadata": {
    "tags": []
   },
   "source": [
    "# Survival Analysis Exploration"
   ]
  },
  {
   "cell_type": "markdown",
   "id": "174abfff-1500-474d-b174-9fa67f35bff8",
   "metadata": {},
   "source": [
    "Adapted this code from the Scikit-Survival documentation here:\n",
    " * https://scikit-survival.readthedocs.io/en/stable/user_guide/00-introduction.html\n",
    "\n",
    "Used a different larger test dataset from the package in order to have some different results."
   ]
  },
  {
   "cell_type": "markdown",
   "id": "e0125e74-e413-46b5-896c-895301071ee8",
   "metadata": {
    "tags": []
   },
   "source": [
    "## Imports"
   ]
  },
  {
   "cell_type": "code",
   "execution_count": 134,
   "id": "adb67953-fb95-4381-a290-79ec4cf17145",
   "metadata": {},
   "outputs": [],
   "source": [
    "import pandas as pd\n",
    "import numpy as np\n",
    "import matplotlib.pyplot as plt\n",
    "\n",
    "from sksurv.datasets import load_flchain\n",
    "from sksurv.preprocessing import OneHotEncoder\n",
    "from sksurv.nonparametric import kaplan_meier_estimator\n",
    "from sksurv.linear_model import CoxPHSurvivalAnalysis"
   ]
  },
  {
   "cell_type": "code",
   "execution_count": 80,
   "id": "51a52570-9bfd-4134-a5ef-8b73bb5eb4bb",
   "metadata": {},
   "outputs": [
    {
     "data": {
      "text/html": [
       "<div>\n",
       "<style scoped>\n",
       "    .dataframe tbody tr th:only-of-type {\n",
       "        vertical-align: middle;\n",
       "    }\n",
       "\n",
       "    .dataframe tbody tr th {\n",
       "        vertical-align: top;\n",
       "    }\n",
       "\n",
       "    .dataframe thead th {\n",
       "        text-align: right;\n",
       "    }\n",
       "</style>\n",
       "<table border=\"1\" class=\"dataframe\">\n",
       "  <thead>\n",
       "    <tr style=\"text-align: right;\">\n",
       "      <th></th>\n",
       "      <th>age</th>\n",
       "      <th>creatinine</th>\n",
       "      <th>kappa</th>\n",
       "      <th>lambda</th>\n",
       "    </tr>\n",
       "  </thead>\n",
       "  <tbody>\n",
       "    <tr>\n",
       "      <th>count</th>\n",
       "      <td>7874.000000</td>\n",
       "      <td>6524.000000</td>\n",
       "      <td>7874.000000</td>\n",
       "      <td>7874.000000</td>\n",
       "    </tr>\n",
       "    <tr>\n",
       "      <th>mean</th>\n",
       "      <td>64.293117</td>\n",
       "      <td>1.093516</td>\n",
       "      <td>1.430881</td>\n",
       "      <td>1.702624</td>\n",
       "    </tr>\n",
       "    <tr>\n",
       "      <th>std</th>\n",
       "      <td>10.462719</td>\n",
       "      <td>0.416507</td>\n",
       "      <td>0.896774</td>\n",
       "      <td>1.030732</td>\n",
       "    </tr>\n",
       "    <tr>\n",
       "      <th>min</th>\n",
       "      <td>50.000000</td>\n",
       "      <td>0.400000</td>\n",
       "      <td>0.010000</td>\n",
       "      <td>0.040000</td>\n",
       "    </tr>\n",
       "    <tr>\n",
       "      <th>25%</th>\n",
       "      <td>55.000000</td>\n",
       "      <td>0.900000</td>\n",
       "      <td>0.960000</td>\n",
       "      <td>1.200000</td>\n",
       "    </tr>\n",
       "    <tr>\n",
       "      <th>50%</th>\n",
       "      <td>63.000000</td>\n",
       "      <td>1.000000</td>\n",
       "      <td>1.270000</td>\n",
       "      <td>1.510000</td>\n",
       "    </tr>\n",
       "    <tr>\n",
       "      <th>75%</th>\n",
       "      <td>72.000000</td>\n",
       "      <td>1.200000</td>\n",
       "      <td>1.680000</td>\n",
       "      <td>1.920000</td>\n",
       "    </tr>\n",
       "    <tr>\n",
       "      <th>max</th>\n",
       "      <td>101.000000</td>\n",
       "      <td>10.800000</td>\n",
       "      <td>20.500000</td>\n",
       "      <td>26.600000</td>\n",
       "    </tr>\n",
       "  </tbody>\n",
       "</table>\n",
       "</div>"
      ],
      "text/plain": [
       "               age   creatinine        kappa       lambda\n",
       "count  7874.000000  6524.000000  7874.000000  7874.000000\n",
       "mean     64.293117     1.093516     1.430881     1.702624\n",
       "std      10.462719     0.416507     0.896774     1.030732\n",
       "min      50.000000     0.400000     0.010000     0.040000\n",
       "25%      55.000000     0.900000     0.960000     1.200000\n",
       "50%      63.000000     1.000000     1.270000     1.510000\n",
       "75%      72.000000     1.200000     1.680000     1.920000\n",
       "max     101.000000    10.800000    20.500000    26.600000"
      ]
     },
     "execution_count": 80,
     "metadata": {},
     "output_type": "execute_result"
    }
   ],
   "source": [
    "X, y = load_flchain()\n",
    "X.describe()"
   ]
  },
  {
   "cell_type": "markdown",
   "id": "93b517c8-4814-43e5-9f83-64bd89745f8a",
   "metadata": {},
   "source": [
    "## Kaplan-Meier Estimator"
   ]
  },
  {
   "cell_type": "code",
   "execution_count": 68,
   "id": "0adef703-6173-4fa6-a426-56dda4046f96",
   "metadata": {},
   "outputs": [
    {
     "data": {
      "text/plain": [
       "Text(0.5, 0, 'time $t$')"
      ]
     },
     "execution_count": 68,
     "metadata": {},
     "output_type": "execute_result"
    },
    {
     "data": {
      "image/png": "[encoded data removed]",
      "text/plain": [
       "<Figure size 432x288 with 1 Axes>"
      ]
     },
     "metadata": {
      "needs_background": "light"
     },
     "output_type": "display_data"
    }
   ],
   "source": [
    "time, survival_prob = kaplan_meier_estimator(y[\"death\"], y[\"futime\"])\n",
    "plt.step(time, survival_prob, where=\"post\")\n",
    "plt.ylabel(\"est. probability of survival $\\hat{S}(t)$\")\n",
    "plt.xlabel(\"time $t$\")"
   ]
  },
  {
   "cell_type": "markdown",
   "id": "a8dbd5c3-eba3-40ae-aa43-c2e2180195fe",
   "metadata": {},
   "source": [
    "Fit KM for two different categories in the data.  This code is quite a bit more manual and verbose than how it's implemented in R.  This would be a pain to do for another factor on top of this one.  "
   ]
  },
  {
   "cell_type": "code",
   "execution_count": 69,
   "id": "0ebd762b-4212-42b9-b6cc-9f586cc3d7b5",
   "metadata": {},
   "outputs": [
    {
     "data": {
      "text/plain": [
       "<matplotlib.legend.Legend at 0x7feba6293430>"
      ]
     },
     "execution_count": 69,
     "metadata": {},
     "output_type": "execute_result"
    },
    {
     "data": {
      "image/png": "[encoded data removed]",
      "text/plain": [
       "<Figure size 432x288 with 1 Axes>"
      ]
     },
     "metadata": {
      "needs_background": "light"
     },
     "output_type": "display_data"
    }
   ],
   "source": [
    "for sex in X.sex.unique():\n",
    "    filt = X[\"sex\"] == sex\n",
    "    time, survival_prob = kaplan_meier_estimator(y[\"death\"][filt], y[\"futime\"][filt])\n",
    "    \n",
    "    plt.step(time, survival_prob, where=\"post\",\n",
    "             label=\"Sex = %s\" % sex)\n",
    "\n",
    "plt.ylabel(\"est. probability of survival $\\hat{S}(t)$\")\n",
    "plt.xlabel(\"time $t$\")\n",
    "plt.legend(loc=\"best\")"
   ]
  },
  {
   "cell_type": "markdown",
   "id": "02230c0a-4f0e-4afa-8bf7-8a86bafc48c0",
   "metadata": {},
   "source": [
    "Prep the data to fix a CPH model.  First need to determine what to do with NA values.  The continuous variable creatinine is missing 1350/7874 values for creatinine.  The discrete variable chapter is missing 5705/7874 values.  Chapter appears to be the ICD cause of death, so it is only populated for records where there was a death.  We can't use this variable for modeling since we only know the cause of death after death happens."
   ]
  },
  {
   "cell_type": "code",
   "execution_count": 122,
   "id": "af589c6b-7944-413e-949e-fad21a58aae0",
   "metadata": {},
   "outputs": [
    {
     "data": {
      "text/plain": [
       "age              0\n",
       "chapter       5705\n",
       "creatinine    1350\n",
       "flc.grp          0\n",
       "kappa            0\n",
       "lambda           0\n",
       "mgus             0\n",
       "sample.yr        0\n",
       "sex              0\n",
       "dtype: int64"
      ]
     },
     "execution_count": 122,
     "metadata": {},
     "output_type": "execute_result"
    }
   ],
   "source": [
    "X.isna().sum()"
   ]
  },
  {
   "cell_type": "markdown",
   "id": "44c1b73a-8654-463e-a325-212e0cd08020",
   "metadata": {},
   "source": [
    "For creatinine, we could either exclude the records with missing creatinine or look to impute values of creatinine.  First, I want to understand whether or not there is a difference in survival outcomes for records with missing creatinine vs non-missing creatinine. "
   ]
  },
  {
   "cell_type": "code",
   "execution_count": 123,
   "id": "65df06cf-d27b-4c69-bddf-9a006ada6135",
   "metadata": {},
   "outputs": [
    {
     "data": {
      "text/plain": [
       "<matplotlib.legend.Legend at 0x7feba84ebf40>"
      ]
     },
     "execution_count": 123,
     "metadata": {},
     "output_type": "execute_result"
    },
    {
     "data": {
      "image/png": "[encoded data removed]",
      "text/plain": [
       "<Figure size 432x288 with 1 Axes>"
      ]
     },
     "metadata": {
      "needs_background": "light"
     },
     "output_type": "display_data"
    }
   ],
   "source": [
    "for val in [\"na\", \"not-na\"]:\n",
    "    if val == \"na\":\n",
    "        filt = X[\"creatinine\"].isna()\n",
    "    else: \n",
    "        filt = ~X[\"creatinine\"].isna()\n",
    "    time, survival_prob = kaplan_meier_estimator(y[\"death\"][filt], y[\"futime\"][filt])\n",
    "    \n",
    "    plt.step(time, survival_prob, where=\"post\",\n",
    "             label=\"Creatinine = %s\" % val)\n",
    "\n",
    "plt.ylabel(\"est. probability of survival $\\hat{S}(t)$\")\n",
    "plt.xlabel(\"time $t$\")\n",
    "plt.legend(loc=\"best\")"
   ]
  },
  {
   "cell_type": "markdown",
   "id": "be614279-b72a-4221-9e7b-069dc7531cf2",
   "metadata": {},
   "source": [
    "From the KM analysis, it appears that for missing values of creatinine, survival is significanly higher. This means there is likely a structural reason that creatinine is missing from these records.  For the initial model, I'm going to exclude this variable"
   ]
  },
  {
   "cell_type": "code",
   "execution_count": null,
   "id": "01dc06b7-ba0e-4b0c-8164-fc0d0dc5702f",
   "metadata": {},
   "outputs": [],
   "source": []
  },
  {
   "cell_type": "code",
   "execution_count": 126,
   "id": "d4287d5a-8cee-42e0-bd45-ac75853e0f43",
   "metadata": {},
   "outputs": [
    {
     "data": {
      "text/plain": [
       "Index(['age', 'chapter', 'creatinine', 'flc.grp', 'kappa', 'lambda', 'mgus',\n",
       "       'sample.yr', 'sex'],\n",
       "      dtype='object')"
      ]
     },
     "execution_count": 126,
     "metadata": {},
     "output_type": "execute_result"
    }
   ],
   "source": [
    "X_num = OneHotEncoder().fit_transform(X[['age', 'flc.grp', 'kappa', 'lambda', 'mgus', 'sample.yr', 'sex']])\n",
    "X.columns"
   ]
  },
  {
   "cell_type": "code",
   "execution_count": 127,
   "id": "a9b3868d-b61e-4725-a878-1e3c819e62ee",
   "metadata": {},
   "outputs": [
    {
     "data": {
      "text/plain": [
       "Index(['age', 'flc.grp=2', 'flc.grp=3', 'flc.grp=4', 'flc.grp=5', 'flc.grp=6',\n",
       "       'flc.grp=7', 'flc.grp=8', 'flc.grp=9', 'flc.grp=10', 'kappa', 'lambda',\n",
       "       'mgus=yes', 'sample.yr=1996', 'sample.yr=1997', 'sample.yr=1998',\n",
       "       'sample.yr=1999', 'sample.yr=2000', 'sample.yr=2001', 'sample.yr=2002',\n",
       "       'sample.yr=2003', 'sex=M'],\n",
       "      dtype='object')"
      ]
     },
     "execution_count": 127,
     "metadata": {},
     "output_type": "execute_result"
    }
   ],
   "source": [
    "X_num.columns"
   ]
  },
  {
   "cell_type": "code",
   "execution_count": 140,
   "id": "570b6d81-dd85-41a3-b91d-f5359df66104",
   "metadata": {},
   "outputs": [
    {
     "data": {
      "text/plain": [
       "CoxPHSurvivalAnalysis()"
      ]
     },
     "execution_count": 140,
     "metadata": {},
     "output_type": "execute_result"
    }
   ],
   "source": [
    "cph = CoxPHSurvivalAnalysis()\n",
    "cph.fit(X_num, y)"
   ]
  },
  {
   "cell_type": "code",
   "execution_count": 141,
   "id": "6a1e06de-9843-4c44-9303-2f4536848819",
   "metadata": {},
   "outputs": [
    {
     "data": {
      "text/plain": [
       "age               0.103709\n",
       "flc.grp=2        -0.093034\n",
       "flc.grp=3         0.069239\n",
       "flc.grp=4         0.074452\n",
       "flc.grp=5         0.052560\n",
       "flc.grp=6         0.242050\n",
       "flc.grp=7         0.133205\n",
       "flc.grp=8         0.261167\n",
       "flc.grp=9         0.243430\n",
       "flc.grp=10        0.560105\n",
       "kappa             0.023416\n",
       "lambda            0.155937\n",
       "mgus=yes          0.089784\n",
       "sample.yr=1996   -0.046639\n",
       "sample.yr=1997    0.029358\n",
       "sample.yr=1998    0.018287\n",
       "sample.yr=1999    0.040938\n",
       "sample.yr=2000    0.295787\n",
       "sample.yr=2001    0.662818\n",
       "sample.yr=2002   -1.779438\n",
       "sample.yr=2003   -0.089327\n",
       "sex=M             0.311122\n",
       "dtype: float64"
      ]
     },
     "execution_count": 141,
     "metadata": {},
     "output_type": "execute_result"
    }
   ],
   "source": [
    "pd.Series(cph.coef_, index=X_num.columns)\n"
   ]
  },
  {
   "cell_type": "code",
   "execution_count": 138,
   "id": "f9eca11e-5154-4d48-9c27-9c1207d58fe6",
   "metadata": {},
   "outputs": [
    {
     "data": {
      "text/plain": [
       "0"
      ]
     },
     "execution_count": 138,
     "metadata": {},
     "output_type": "execute_result"
    }
   ],
   "source": []
  },
  {
   "cell_type": "code",
   "execution_count": null,
   "id": "8ff39e1a-5476-4596-ae85-e6f1829a5b04",
   "metadata": {},
   "outputs": [],
   "source": []
  }
 ],
 "metadata": {
  "kernelspec": {
   "display_name": "Python 3 (ipykernel)",
   "language": "python",
   "name": "python3"
  },
  "language_info": {
   "codemirror_mode": {
    "name": "ipython",
    "version": 3
   },
   "file_extension": ".py",
   "mimetype": "text/x-python",
   "name": "python",
   "nbconvert_exporter": "python",
   "pygments_lexer": "ipython3",
   "version": "3.9.7"
  }
 },
 "nbformat": 4,
 "nbformat_minor": 5
}
