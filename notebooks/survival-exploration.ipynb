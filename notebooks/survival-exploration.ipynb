{
 "cells": [
  {
   "cell_type": "markdown",
   "id": "d41d22c8-2f9b-400c-8a7b-2c47161b2935",
   "metadata": {
    "tags": []
   },
   "source": [
    "# Survival Analysis Exploration"
   ]
  },
  {
   "cell_type": "markdown",
   "id": "52ba9ab2",
   "metadata": {},
   "source": [
    "## Python Survival Packages\n",
    " - [scikit-survival](https://scikit-survival.readthedocs.io/en/stable/index.html): This seems like the best library with ML survival methods.  It is under active development.  Stylistically and technically consistent with sklearn.  It does seem somewhat immature with some key things not implemented yet like some feature importances, some features associated with ensemble tree methods like warm start gradient boosting, etc.\n",
    " - [pysurvival](https://square.github.io/pysurvival/): This library has a decent amount of base survival functionality but doesn't seem to be active.  No commits have been made since 2019.\n",
    " - [lifelines](https://lifelines.readthedocs.io/en/latest/index.html): This seems to be a really robust package under active development that has solid survival analysis basics.  It's missing some ML methods and ensemble methods but is likely a better choice for basic models like Cox and paremetric regressions.  Seems more 'statistics-flavored' rather than 'ML-flavored' "
   ]
  },
  {
   "cell_type": "markdown",
   "id": "7a236e9a",
   "metadata": {},
   "source": [
    "Adapted this code from the Scikit-Survival documentation here:\n",
    " * https://scikit-survival.readthedocs.io/en/stable/user_guide/00-introduction.html\n",
    "\n",
    "Used a different larger test dataset from the package in order to have some different results.\n",
    "\n",
    "`conda env export > environment.yml`"
   ]
  },
  {
   "cell_type": "markdown",
   "id": "e0125e74-e413-46b5-896c-895301071ee8",
   "metadata": {
    "tags": []
   },
   "source": [
    "## Imports and Data Preprocessing"
   ]
  },
  {
   "cell_type": "code",
   "execution_count": 1,
   "id": "adb67953-fb95-4381-a290-79ec4cf17145",
   "metadata": {},
   "outputs": [],
   "source": [
    "import pandas as pd\n",
    "import numpy as np\n",
    "import matplotlib.pyplot as plt\n",
    "import seaborn as sns\n",
    "\n",
    "from sklearn.model_selection import train_test_split\n",
    "from sksurv.datasets import load_flchain\n",
    "from sksurv.preprocessing import OneHotEncoder\n",
    "from sksurv.nonparametric import kaplan_meier_estimator\n",
    "from sksurv.linear_model import CoxPHSurvivalAnalysis"
   ]
  },
  {
   "cell_type": "code",
   "execution_count": 2,
   "id": "51a52570-9bfd-4134-a5ef-8b73bb5eb4bb",
   "metadata": {},
   "outputs": [
    {
     "name": "stdout",
     "output_type": "stream",
     "text": [
      "Index(['age', 'chapter', 'creatinine', 'flc.grp', 'kappa', 'lambda', 'mgus',\n",
      "       'sample.yr', 'sex'],\n",
      "      dtype='object')\n"
     ]
    },
    {
     "data": {
      "text/html": [
       "<div>\n",
       "<style scoped>\n",
       "    .dataframe tbody tr th:only-of-type {\n",
       "        vertical-align: middle;\n",
       "    }\n",
       "\n",
       "    .dataframe tbody tr th {\n",
       "        vertical-align: top;\n",
       "    }\n",
       "\n",
       "    .dataframe thead th {\n",
       "        text-align: right;\n",
       "    }\n",
       "</style>\n",
       "<table border=\"1\" class=\"dataframe\">\n",
       "  <thead>\n",
       "    <tr style=\"text-align: right;\">\n",
       "      <th></th>\n",
       "      <th>age</th>\n",
       "      <th>chapter</th>\n",
       "      <th>creatinine</th>\n",
       "      <th>flc.grp</th>\n",
       "      <th>kappa</th>\n",
       "      <th>lambda</th>\n",
       "      <th>mgus</th>\n",
       "      <th>sample.yr</th>\n",
       "      <th>sex</th>\n",
       "    </tr>\n",
       "  </thead>\n",
       "  <tbody>\n",
       "    <tr>\n",
       "      <th>0</th>\n",
       "      <td>97.0</td>\n",
       "      <td>Circulatory</td>\n",
       "      <td>1.7</td>\n",
       "      <td>10</td>\n",
       "      <td>5.700</td>\n",
       "      <td>4.860</td>\n",
       "      <td>no</td>\n",
       "      <td>1997</td>\n",
       "      <td>F</td>\n",
       "    </tr>\n",
       "    <tr>\n",
       "      <th>1</th>\n",
       "      <td>92.0</td>\n",
       "      <td>Neoplasms</td>\n",
       "      <td>0.9</td>\n",
       "      <td>1</td>\n",
       "      <td>0.870</td>\n",
       "      <td>0.683</td>\n",
       "      <td>no</td>\n",
       "      <td>2000</td>\n",
       "      <td>F</td>\n",
       "    </tr>\n",
       "    <tr>\n",
       "      <th>2</th>\n",
       "      <td>94.0</td>\n",
       "      <td>Circulatory</td>\n",
       "      <td>1.4</td>\n",
       "      <td>10</td>\n",
       "      <td>4.360</td>\n",
       "      <td>3.850</td>\n",
       "      <td>no</td>\n",
       "      <td>1997</td>\n",
       "      <td>F</td>\n",
       "    </tr>\n",
       "    <tr>\n",
       "      <th>3</th>\n",
       "      <td>92.0</td>\n",
       "      <td>Circulatory</td>\n",
       "      <td>1.0</td>\n",
       "      <td>9</td>\n",
       "      <td>2.420</td>\n",
       "      <td>2.220</td>\n",
       "      <td>no</td>\n",
       "      <td>1996</td>\n",
       "      <td>F</td>\n",
       "    </tr>\n",
       "    <tr>\n",
       "      <th>4</th>\n",
       "      <td>93.0</td>\n",
       "      <td>Circulatory</td>\n",
       "      <td>1.1</td>\n",
       "      <td>6</td>\n",
       "      <td>1.320</td>\n",
       "      <td>1.690</td>\n",
       "      <td>no</td>\n",
       "      <td>1996</td>\n",
       "      <td>F</td>\n",
       "    </tr>\n",
       "    <tr>\n",
       "      <th>...</th>\n",
       "      <td>...</td>\n",
       "      <td>...</td>\n",
       "      <td>...</td>\n",
       "      <td>...</td>\n",
       "      <td>...</td>\n",
       "      <td>...</td>\n",
       "      <td>...</td>\n",
       "      <td>...</td>\n",
       "      <td>...</td>\n",
       "    </tr>\n",
       "    <tr>\n",
       "      <th>7869</th>\n",
       "      <td>52.0</td>\n",
       "      <td>NaN</td>\n",
       "      <td>1.0</td>\n",
       "      <td>6</td>\n",
       "      <td>1.210</td>\n",
       "      <td>1.610</td>\n",
       "      <td>no</td>\n",
       "      <td>1995</td>\n",
       "      <td>F</td>\n",
       "    </tr>\n",
       "    <tr>\n",
       "      <th>7870</th>\n",
       "      <td>52.0</td>\n",
       "      <td>NaN</td>\n",
       "      <td>0.8</td>\n",
       "      <td>1</td>\n",
       "      <td>0.858</td>\n",
       "      <td>0.581</td>\n",
       "      <td>no</td>\n",
       "      <td>1999</td>\n",
       "      <td>F</td>\n",
       "    </tr>\n",
       "    <tr>\n",
       "      <th>7871</th>\n",
       "      <td>54.0</td>\n",
       "      <td>NaN</td>\n",
       "      <td>NaN</td>\n",
       "      <td>8</td>\n",
       "      <td>1.700</td>\n",
       "      <td>1.720</td>\n",
       "      <td>no</td>\n",
       "      <td>2002</td>\n",
       "      <td>F</td>\n",
       "    </tr>\n",
       "    <tr>\n",
       "      <th>7872</th>\n",
       "      <td>53.0</td>\n",
       "      <td>NaN</td>\n",
       "      <td>NaN</td>\n",
       "      <td>9</td>\n",
       "      <td>1.710</td>\n",
       "      <td>2.690</td>\n",
       "      <td>no</td>\n",
       "      <td>1995</td>\n",
       "      <td>F</td>\n",
       "    </tr>\n",
       "    <tr>\n",
       "      <th>7873</th>\n",
       "      <td>50.0</td>\n",
       "      <td>NaN</td>\n",
       "      <td>0.7</td>\n",
       "      <td>4</td>\n",
       "      <td>1.190</td>\n",
       "      <td>1.250</td>\n",
       "      <td>no</td>\n",
       "      <td>1998</td>\n",
       "      <td>F</td>\n",
       "    </tr>\n",
       "  </tbody>\n",
       "</table>\n",
       "<p>7874 rows × 9 columns</p>\n",
       "</div>"
      ],
      "text/plain": [
       "       age      chapter  creatinine flc.grp  kappa  lambda mgus sample.yr sex\n",
       "0     97.0  Circulatory         1.7      10  5.700   4.860   no      1997   F\n",
       "1     92.0    Neoplasms         0.9       1  0.870   0.683   no      2000   F\n",
       "2     94.0  Circulatory         1.4      10  4.360   3.850   no      1997   F\n",
       "3     92.0  Circulatory         1.0       9  2.420   2.220   no      1996   F\n",
       "4     93.0  Circulatory         1.1       6  1.320   1.690   no      1996   F\n",
       "...    ...          ...         ...     ...    ...     ...  ...       ...  ..\n",
       "7869  52.0          NaN         1.0       6  1.210   1.610   no      1995   F\n",
       "7870  52.0          NaN         0.8       1  0.858   0.581   no      1999   F\n",
       "7871  54.0          NaN         NaN       8  1.700   1.720   no      2002   F\n",
       "7872  53.0          NaN         NaN       9  1.710   2.690   no      1995   F\n",
       "7873  50.0          NaN         0.7       4  1.190   1.250   no      1998   F\n",
       "\n",
       "[7874 rows x 9 columns]"
      ]
     },
     "execution_count": 2,
     "metadata": {},
     "output_type": "execute_result"
    }
   ],
   "source": [
    "X, y = load_flchain()\n",
    "print(X.columns)\n",
    "X"
   ]
  },
  {
   "cell_type": "code",
   "execution_count": 3,
   "id": "cfa8a765",
   "metadata": {},
   "outputs": [
    {
     "data": {
      "text/plain": [
       "[('age', False),\n",
       " ('chapter', True),\n",
       " ('creatinine', True),\n",
       " ('flc.grp', False),\n",
       " ('kappa', False),\n",
       " ('lambda', False),\n",
       " ('mgus', False),\n",
       " ('sample.yr', False),\n",
       " ('sex', False)]"
      ]
     },
     "execution_count": 3,
     "metadata": {},
     "output_type": "execute_result"
    }
   ],
   "source": [
    "# Check for Nans\n",
    "[(asdf, X[asdf].isnull().values.any()) for asdf in X]"
   ]
  },
  {
   "cell_type": "code",
   "execution_count": 4,
   "id": "baae46fd",
   "metadata": {},
   "outputs": [
    {
     "data": {
      "text/plain": [
       "<AxesSubplot:xlabel='sample.yr', ylabel='Count'>"
      ]
     },
     "execution_count": 4,
     "metadata": {},
     "output_type": "execute_result"
    },
    {
     "data": {
      "image/png": "[encoded data removed]",
      "text/plain": [
       "<Figure size 432x288 with 1 Axes>"
      ]
     },
     "metadata": {
      "needs_background": "light"
     },
     "output_type": "display_data"
    }
   ],
   "source": [
    "sns.histplot(X[\"sample.yr\"])"
   ]
  },
  {
   "cell_type": "code",
   "execution_count": 5,
   "id": "4548bed5",
   "metadata": {},
   "outputs": [
    {
     "data": {
      "text/plain": [
       "<AxesSubplot:xlabel='creatinine', ylabel='Count'>"
      ]
     },
     "execution_count": 5,
     "metadata": {},
     "output_type": "execute_result"
    },
    {
     "data": {
      "image/png": "[encoded data removed]",
      "text/plain": [
       "<Figure size 432x288 with 1 Axes>"
      ]
     },
     "metadata": {
      "needs_background": "light"
     },
     "output_type": "display_data"
    }
   ],
   "source": [
    "sns.histplot(X[\"creatinine\"])"
   ]
  },
  {
   "cell_type": "code",
   "execution_count": 6,
   "id": "42687249",
   "metadata": {},
   "outputs": [
    {
     "data": {
      "text/plain": [
       "<AxesSubplot:xlabel='age', ylabel='Count'>"
      ]
     },
     "execution_count": 6,
     "metadata": {},
     "output_type": "execute_result"
    },
    {
     "data": {
      "image/png": "[encoded data removed]",
      "text/plain": [
       "<Figure size 432x288 with 1 Axes>"
      ]
     },
     "metadata": {
      "needs_background": "light"
     },
     "output_type": "display_data"
    }
   ],
   "source": [
    "sns.histplot(X[\"age\"])"
   ]
  },
  {
   "cell_type": "code",
   "execution_count": 7,
   "id": "06989723",
   "metadata": {},
   "outputs": [
    {
     "data": {
      "text/plain": [
       "<AxesSubplot:xlabel='lambda', ylabel='Count'>"
      ]
     },
     "execution_count": 7,
     "metadata": {},
     "output_type": "execute_result"
    },
    {
     "data": {
      "image/png": "[encoded data removed]",
      "text/plain": [
       "<Figure size 432x288 with 1 Axes>"
      ]
     },
     "metadata": {
      "needs_background": "light"
     },
     "output_type": "display_data"
    }
   ],
   "source": [
    "sns.histplot(X[\"lambda\"])"
   ]
  },
  {
   "cell_type": "markdown",
   "id": "d6a3c0b5",
   "metadata": {},
   "source": [
    "Some observations on the data:\n",
    " - age, kappa, and lambda are all numeric with no missing values so no pre-processing needed right now.  Maybe bucketing ages later?\n",
    " - Need to deal with missing values in creatinine and chapter.  Creatinine is numeric so likely use median?  Chapter is categorical so I can treat the missing as a category when I one-hot-encode.  May not be appropriate, need to research data.\n",
    " - Creatinine and lambda seem a bit right-skewed, consider ln or box cox to remove skew\n",
    " - Need to one-hot encode chapter, flc.grp, mgus, and sex"
   ]
  },
  {
   "cell_type": "code",
   "execution_count": 8,
   "id": "8c988843",
   "metadata": {
    "scrolled": true
   },
   "outputs": [],
   "source": [
    "X[\"chapter\"] = X[\"chapter\"].cat.add_categories([\"None\"]).fillna(\"None\")\n",
    "X[\"creatinine\"] = X[\"creatinine\"].fillna(X[\"creatinine\"].median())"
   ]
  },
  {
   "cell_type": "code",
   "execution_count": 22,
   "id": "a7e5b83f",
   "metadata": {},
   "outputs": [],
   "source": [
    "# Removing right skew with log transforms.  CPH performance improved with these changes\n",
    "X[\"lambda\"] = np.log(X[\"lambda\"])\n",
    "X[\"creatinine\"] = np.log(X[\"creatinine\"])"
   ]
  },
  {
   "cell_type": "code",
   "execution_count": 23,
   "id": "44247e61",
   "metadata": {},
   "outputs": [
    {
     "data": {
      "text/plain": [
       "Index(['chapter=Circulatory', 'chapter=Congenital', 'chapter=Digestive',\n",
       "       'chapter=Endocrine', 'chapter=External Causes', 'chapter=Genitourinary',\n",
       "       'chapter=Ill Defined', 'chapter=Infectious',\n",
       "       'chapter=Injury and Poisoning', 'chapter=Mental',\n",
       "       'chapter=Musculoskeletal', 'chapter=Neoplasms', 'chapter=Nervous',\n",
       "       'chapter=Respiratory', 'chapter=Skin', 'chapter=None', 'flc.grp=2',\n",
       "       'flc.grp=3', 'flc.grp=4', 'flc.grp=5', 'flc.grp=6', 'flc.grp=7',\n",
       "       'flc.grp=8', 'flc.grp=9', 'flc.grp=10', 'mgus=yes', 'sex=M'],\n",
       "      dtype='object')"
      ]
     },
     "execution_count": 23,
     "metadata": {},
     "output_type": "execute_result"
    }
   ],
   "source": [
    "# One hot encode the appropriate categorical variables\n",
    "X_ohes = OneHotEncoder().fit_transform(X[['chapter', 'flc.grp', 'mgus', 'sex']])\n",
    "X_ohes.columns"
   ]
  },
  {
   "cell_type": "code",
   "execution_count": 24,
   "id": "26526d57",
   "metadata": {},
   "outputs": [],
   "source": [
    "X_processed = pd.concat([X_ohes, X[[\"age\", \"kappa\", \"lambda\", \"sample.yr\", \"creatinine\"]]], axis = 1)"
   ]
  },
  {
   "cell_type": "code",
   "execution_count": 25,
   "id": "90f5a9f2",
   "metadata": {},
   "outputs": [],
   "source": [
    "X_train, X_test, y_train, y_test = train_test_split(X_processed, y, test_size = 0.3, random_state = 56)"
   ]
  },
  {
   "cell_type": "markdown",
   "id": "93b517c8-4814-43e5-9f83-64bd89745f8a",
   "metadata": {},
   "source": [
    "## Kaplan-Meier Estimator"
   ]
  },
  {
   "cell_type": "code",
   "execution_count": 26,
   "id": "0adef703-6173-4fa6-a426-56dda4046f96",
   "metadata": {},
   "outputs": [
    {
     "data": {
      "text/plain": [
       "Text(0.5, 0, 'time $t$')"
      ]
     },
     "execution_count": 26,
     "metadata": {},
     "output_type": "execute_result"
    },
    {
     "data": {
      "image/png": "[encoded data removed]",
      "text/plain": [
       "<Figure size 432x288 with 1 Axes>"
      ]
     },
     "metadata": {
      "needs_background": "light"
     },
     "output_type": "display_data"
    }
   ],
   "source": [
    "time, survival_prob = kaplan_meier_estimator(y[\"death\"], y[\"futime\"])\n",
    "plt.step(time, survival_prob, where=\"post\")\n",
    "plt.ylabel(\"est. probability of survival $\\hat{S}(t)$\")\n",
    "plt.xlabel(\"time $t$\")"
   ]
  },
  {
   "cell_type": "markdown",
   "id": "a8dbd5c3-eba3-40ae-aa43-c2e2180195fe",
   "metadata": {},
   "source": [
    "Fit KM for two different categories in the data.  This code is quite a bit more manual and verbose than how it's implemented in R.  This would be a pain to do for another factor on top of this one.  "
   ]
  },
  {
   "cell_type": "code",
   "execution_count": 27,
   "id": "0ebd762b-4212-42b9-b6cc-9f586cc3d7b5",
   "metadata": {},
   "outputs": [
    {
     "data": {
      "text/plain": [
       "<matplotlib.legend.Legend at 0x7f86f75676a0>"
      ]
     },
     "execution_count": 27,
     "metadata": {},
     "output_type": "execute_result"
    },
    {
     "data": {
      "image/png": "[encoded data removed]",
      "text/plain": [
       "<Figure size 432x288 with 1 Axes>"
      ]
     },
     "metadata": {
      "needs_background": "light"
     },
     "output_type": "display_data"
    }
   ],
   "source": [
    "for sex in X.sex.unique():\n",
    "    filt = X[\"sex\"] == sex\n",
    "    time, survival_prob = kaplan_meier_estimator(y[\"death\"][filt], y[\"futime\"][filt])\n",
    "    \n",
    "    plt.step(time, survival_prob, where=\"post\",\n",
    "             label=\"Sex = %s\" % sex)\n",
    "\n",
    "plt.ylabel(\"est. probability of survival $\\hat{S}(t)$\")\n",
    "plt.xlabel(\"time $t$\")\n",
    "plt.legend(loc=\"best\")"
   ]
  },
  {
   "cell_type": "markdown",
   "id": "02230c0a-4f0e-4afa-8bf7-8a86bafc48c0",
   "metadata": {},
   "source": [
    "Prep the data to fix a CPH model.  First need to determine what to do with NA values.  The continuous variable creatinine is missing 1350/7874 values for creatinine.  The discrete variable chapter is missing 5705/7874 values.  Chapter appears to be the ICD cause of death, so it is only populated for records where there was a death.  We can't use this variable for modeling since we only know the cause of death after death happens."
   ]
  },
  {
   "cell_type": "code",
   "execution_count": 28,
   "id": "af589c6b-7944-413e-949e-fad21a58aae0",
   "metadata": {},
   "outputs": [
    {
     "data": {
      "text/plain": [
       "age           0\n",
       "chapter       0\n",
       "creatinine    0\n",
       "flc.grp       0\n",
       "kappa         0\n",
       "lambda        0\n",
       "mgus          0\n",
       "sample.yr     0\n",
       "sex           0\n",
       "dtype: int64"
      ]
     },
     "execution_count": 28,
     "metadata": {},
     "output_type": "execute_result"
    }
   ],
   "source": [
    "X.isna().sum()"
   ]
  },
  {
   "cell_type": "markdown",
   "id": "44c1b73a-8654-463e-a325-212e0cd08020",
   "metadata": {},
   "source": [
    "For creatinine, we could either exclude the records with missing creatinine or look to impute values of creatinine.  First, I want to understand whether or not there is a difference in survival outcomes for records with missing creatinine vs non-missing creatinine. "
   ]
  },
  {
   "cell_type": "code",
   "execution_count": 29,
   "id": "65df06cf-d27b-4c69-bddf-9a006ada6135",
   "metadata": {},
   "outputs": [
    {
     "ename": "ValueError",
     "evalue": "Found array with 0 sample(s) (shape=(0,)) while a minimum of 1 is required.",
     "output_type": "error",
     "traceback": [
      "\u001b[0;31m---------------------------------------------------------------------------\u001b[0m",
      "\u001b[0;31mValueError\u001b[0m                                Traceback (most recent call last)",
      "Input \u001b[0;32mIn [29]\u001b[0m, in \u001b[0;36m<cell line: 1>\u001b[0;34m()\u001b[0m\n\u001b[1;32m      4\u001b[0m     \u001b[38;5;28;01melse\u001b[39;00m: \n\u001b[1;32m      5\u001b[0m         filt \u001b[38;5;241m=\u001b[39m \u001b[38;5;241m~\u001b[39mX[\u001b[38;5;124m\"\u001b[39m\u001b[38;5;124mcreatinine\u001b[39m\u001b[38;5;124m\"\u001b[39m]\u001b[38;5;241m.\u001b[39misna()\n\u001b[0;32m----> 6\u001b[0m     time, survival_prob \u001b[38;5;241m=\u001b[39m \u001b[43mkaplan_meier_estimator\u001b[49m\u001b[43m(\u001b[49m\u001b[43my\u001b[49m\u001b[43m[\u001b[49m\u001b[38;5;124;43m\"\u001b[39;49m\u001b[38;5;124;43mdeath\u001b[39;49m\u001b[38;5;124;43m\"\u001b[39;49m\u001b[43m]\u001b[49m\u001b[43m[\u001b[49m\u001b[43mfilt\u001b[49m\u001b[43m]\u001b[49m\u001b[43m,\u001b[49m\u001b[43m \u001b[49m\u001b[43my\u001b[49m\u001b[43m[\u001b[49m\u001b[38;5;124;43m\"\u001b[39;49m\u001b[38;5;124;43mfutime\u001b[39;49m\u001b[38;5;124;43m\"\u001b[39;49m\u001b[43m]\u001b[49m\u001b[43m[\u001b[49m\u001b[43mfilt\u001b[49m\u001b[43m]\u001b[49m\u001b[43m)\u001b[49m\n\u001b[1;32m      8\u001b[0m     plt\u001b[38;5;241m.\u001b[39mstep(time, survival_prob, where\u001b[38;5;241m=\u001b[39m\u001b[38;5;124m\"\u001b[39m\u001b[38;5;124mpost\u001b[39m\u001b[38;5;124m\"\u001b[39m,\n\u001b[1;32m      9\u001b[0m              label\u001b[38;5;241m=\u001b[39m\u001b[38;5;124m\"\u001b[39m\u001b[38;5;124mCreatinine = \u001b[39m\u001b[38;5;132;01m%s\u001b[39;00m\u001b[38;5;124m\"\u001b[39m \u001b[38;5;241m%\u001b[39m val)\n\u001b[1;32m     11\u001b[0m plt\u001b[38;5;241m.\u001b[39mylabel(\u001b[38;5;124m\"\u001b[39m\u001b[38;5;124mest. probability of survival $\u001b[39m\u001b[38;5;124m\\\u001b[39m\u001b[38;5;124mhat\u001b[39m\u001b[38;5;132;01m{S}\u001b[39;00m\u001b[38;5;124m(t)$\u001b[39m\u001b[38;5;124m\"\u001b[39m)\n",
      "File \u001b[0;32m/opt/anaconda3/envs/surv/lib/python3.9/site-packages/sksurv/nonparametric.py:225\u001b[0m, in \u001b[0;36mkaplan_meier_estimator\u001b[0;34m(event, time_exit, time_enter, time_min, reverse)\u001b[0m\n\u001b[1;32m    174\u001b[0m \u001b[38;5;28;01mdef\u001b[39;00m \u001b[38;5;21mkaplan_meier_estimator\u001b[39m(event, time_exit, time_enter\u001b[38;5;241m=\u001b[39m\u001b[38;5;28;01mNone\u001b[39;00m, time_min\u001b[38;5;241m=\u001b[39m\u001b[38;5;28;01mNone\u001b[39;00m, reverse\u001b[38;5;241m=\u001b[39m\u001b[38;5;28;01mFalse\u001b[39;00m):\n\u001b[1;32m    175\u001b[0m     \u001b[38;5;124;03m\"\"\"Kaplan-Meier estimator of survival function.\u001b[39;00m\n\u001b[1;32m    176\u001b[0m \n\u001b[1;32m    177\u001b[0m \u001b[38;5;124;03m    See [1]_ for further description.\u001b[39;00m\n\u001b[0;32m   (...)\u001b[0m\n\u001b[1;32m    223\u001b[0m \u001b[38;5;124;03m           Journal of The American Statistical Association, vol. 53, pp. 457-481, 1958.\u001b[39;00m\n\u001b[1;32m    224\u001b[0m \u001b[38;5;124;03m    \"\"\"\u001b[39;00m\n\u001b[0;32m--> 225\u001b[0m     event, time_enter, time_exit \u001b[38;5;241m=\u001b[39m \u001b[43mcheck_y_survival\u001b[49m\u001b[43m(\u001b[49m\u001b[43mevent\u001b[49m\u001b[43m,\u001b[49m\u001b[43m \u001b[49m\u001b[43mtime_enter\u001b[49m\u001b[43m,\u001b[49m\u001b[43m \u001b[49m\u001b[43mtime_exit\u001b[49m\u001b[43m,\u001b[49m\u001b[43m \u001b[49m\u001b[43mallow_all_censored\u001b[49m\u001b[38;5;241;43m=\u001b[39;49m\u001b[38;5;28;43;01mTrue\u001b[39;49;00m\u001b[43m)\u001b[49m\n\u001b[1;32m    226\u001b[0m     check_consistent_length(event, time_enter, time_exit)\n\u001b[1;32m    228\u001b[0m     \u001b[38;5;28;01mif\u001b[39;00m time_enter \u001b[38;5;129;01mis\u001b[39;00m \u001b[38;5;28;01mNone\u001b[39;00m:\n",
      "File \u001b[0;32m/opt/anaconda3/envs/surv/lib/python3.9/site-packages/sksurv/util.py:144\u001b[0m, in \u001b[0;36mcheck_y_survival\u001b[0;34m(y_or_event, allow_all_censored, *args)\u001b[0m\n\u001b[1;32m    141\u001b[0m     y_event \u001b[38;5;241m=\u001b[39m numpy\u001b[38;5;241m.\u001b[39masanyarray(y_or_event)\n\u001b[1;32m    142\u001b[0m     time_args \u001b[38;5;241m=\u001b[39m args\n\u001b[0;32m--> 144\u001b[0m event \u001b[38;5;241m=\u001b[39m \u001b[43mcheck_array\u001b[49m\u001b[43m(\u001b[49m\u001b[43my_event\u001b[49m\u001b[43m,\u001b[49m\u001b[43m \u001b[49m\u001b[43mensure_2d\u001b[49m\u001b[38;5;241;43m=\u001b[39;49m\u001b[38;5;28;43;01mFalse\u001b[39;49;00m\u001b[43m)\u001b[49m\n\u001b[1;32m    145\u001b[0m \u001b[38;5;28;01mif\u001b[39;00m \u001b[38;5;129;01mnot\u001b[39;00m numpy\u001b[38;5;241m.\u001b[39missubdtype(event\u001b[38;5;241m.\u001b[39mdtype, numpy\u001b[38;5;241m.\u001b[39mbool_):\n\u001b[1;32m    146\u001b[0m     \u001b[38;5;28;01mraise\u001b[39;00m \u001b[38;5;167;01mValueError\u001b[39;00m(\u001b[38;5;124m'\u001b[39m\u001b[38;5;124melements of event indicator must be boolean, but found \u001b[39m\u001b[38;5;132;01m{0}\u001b[39;00m\u001b[38;5;124m'\u001b[39m\u001b[38;5;241m.\u001b[39mformat(event\u001b[38;5;241m.\u001b[39mdtype))\n",
      "File \u001b[0;32m/opt/anaconda3/envs/surv/lib/python3.9/site-packages/sklearn/utils/validation.py:805\u001b[0m, in \u001b[0;36mcheck_array\u001b[0;34m(array, accept_sparse, accept_large_sparse, dtype, order, copy, force_all_finite, ensure_2d, allow_nd, ensure_min_samples, ensure_min_features, estimator)\u001b[0m\n\u001b[1;32m    803\u001b[0m     n_samples \u001b[38;5;241m=\u001b[39m _num_samples(array)\n\u001b[1;32m    804\u001b[0m     \u001b[38;5;28;01mif\u001b[39;00m n_samples \u001b[38;5;241m<\u001b[39m ensure_min_samples:\n\u001b[0;32m--> 805\u001b[0m         \u001b[38;5;28;01mraise\u001b[39;00m \u001b[38;5;167;01mValueError\u001b[39;00m(\n\u001b[1;32m    806\u001b[0m             \u001b[38;5;124m\"\u001b[39m\u001b[38;5;124mFound array with \u001b[39m\u001b[38;5;132;01m%d\u001b[39;00m\u001b[38;5;124m sample(s) (shape=\u001b[39m\u001b[38;5;132;01m%s\u001b[39;00m\u001b[38;5;124m) while a\u001b[39m\u001b[38;5;124m\"\u001b[39m\n\u001b[1;32m    807\u001b[0m             \u001b[38;5;124m\"\u001b[39m\u001b[38;5;124m minimum of \u001b[39m\u001b[38;5;132;01m%d\u001b[39;00m\u001b[38;5;124m is required\u001b[39m\u001b[38;5;132;01m%s\u001b[39;00m\u001b[38;5;124m.\u001b[39m\u001b[38;5;124m\"\u001b[39m\n\u001b[1;32m    808\u001b[0m             \u001b[38;5;241m%\u001b[39m (n_samples, array\u001b[38;5;241m.\u001b[39mshape, ensure_min_samples, context)\n\u001b[1;32m    809\u001b[0m         )\n\u001b[1;32m    811\u001b[0m \u001b[38;5;28;01mif\u001b[39;00m ensure_min_features \u001b[38;5;241m>\u001b[39m \u001b[38;5;241m0\u001b[39m \u001b[38;5;129;01mand\u001b[39;00m array\u001b[38;5;241m.\u001b[39mndim \u001b[38;5;241m==\u001b[39m \u001b[38;5;241m2\u001b[39m:\n\u001b[1;32m    812\u001b[0m     n_features \u001b[38;5;241m=\u001b[39m array\u001b[38;5;241m.\u001b[39mshape[\u001b[38;5;241m1\u001b[39m]\n",
      "\u001b[0;31mValueError\u001b[0m: Found array with 0 sample(s) (shape=(0,)) while a minimum of 1 is required."
     ]
    }
   ],
   "source": [
    "for val in [\"na\", \"not-na\"]:\n",
    "    if val == \"na\":\n",
    "        filt = X[\"creatinine\"].isna()\n",
    "    else: \n",
    "        filt = ~X[\"creatinine\"].isna()\n",
    "    time, survival_prob = kaplan_meier_estimator(y[\"death\"][filt], y[\"futime\"][filt])\n",
    "    \n",
    "    plt.step(time, survival_prob, where=\"post\",\n",
    "             label=\"Creatinine = %s\" % val)\n",
    "\n",
    "plt.ylabel(\"est. probability of survival $\\hat{S}(t)$\")\n",
    "plt.xlabel(\"time $t$\")\n",
    "plt.legend(loc=\"best\")"
   ]
  },
  {
   "cell_type": "markdown",
   "id": "be614279-b72a-4221-9e7b-069dc7531cf2",
   "metadata": {},
   "source": [
    "From the KM analysis, it appears that for missing values of creatinine, survival is significanly higher. This means there is likely a structural reason that creatinine is missing from these records.  For the initial model, I'm going to exclude this variable"
   ]
  },
  {
   "cell_type": "markdown",
   "id": "01e90e38",
   "metadata": {},
   "source": [
    "## Cox Proportional Hazard Regression"
   ]
  },
  {
   "cell_type": "code",
   "execution_count": 43,
   "id": "570b6d81-dd85-41a3-b91d-f5359df66104",
   "metadata": {},
   "outputs": [
    {
     "name": "stderr",
     "output_type": "stream",
     "text": [
      "/opt/anaconda3/envs/surv/lib/python3.9/site-packages/sksurv/linear_model/coxph.py:174: RuntimeWarning: overflow encountered in exp\n",
      "  risk_set += numpy.exp(xw[k])\n",
      "/opt/anaconda3/envs/surv/lib/python3.9/site-packages/sksurv/linear_model/coxph.py:171: RuntimeWarning: overflow encountered in exp\n",
      "  risk_set2 += numpy.exp(xw[k])\n",
      "/opt/anaconda3/envs/surv/lib/python3.9/site-packages/sksurv/linear_model/coxph.py:174: RuntimeWarning: overflow encountered in double_scalars\n",
      "  risk_set += numpy.exp(xw[k])\n"
     ]
    },
    {
     "data": {
      "text/plain": [
       "CoxPHSurvivalAnalysis(alpha=0.0001)"
      ]
     },
     "execution_count": 43,
     "metadata": {},
     "output_type": "execute_result"
    }
   ],
   "source": [
    "cph = CoxPHSurvivalAnalysis(alpha = 0.0001)\n",
    "cph.fit(X_train, y_train)"
   ]
  },
  {
   "cell_type": "code",
   "execution_count": 44,
   "id": "6a1e06de-9843-4c44-9303-2f4536848819",
   "metadata": {},
   "outputs": [
    {
     "name": "stderr",
     "output_type": "stream",
     "text": [
      "/opt/anaconda3/envs/surv/lib/python3.9/site-packages/sklearn/base.py:566: FutureWarning: Arrays of bytes/strings is being converted to decimal numbers if dtype='numeric'. This behavior is deprecated in 0.24 and will be removed in 1.1 (renaming of 0.26). Please convert your data to numeric values explicitly instead.\n",
      "  X = check_array(X, **check_params)\n"
     ]
    },
    {
     "data": {
      "text/plain": [
       "0.9362848798725382"
      ]
     },
     "execution_count": 44,
     "metadata": {},
     "output_type": "execute_result"
    }
   ],
   "source": [
    "cph.score(X_test, y_test)\n",
    "# 0.9357476907520315"
   ]
  },
  {
   "cell_type": "markdown",
   "id": "8512ad61",
   "metadata": {},
   "source": [
    "## Random Survival Forests"
   ]
  },
  {
   "cell_type": "code",
   "execution_count": 32,
   "id": "274ae43a",
   "metadata": {},
   "outputs": [],
   "source": [
    "from sksurv.ensemble import RandomSurvivalForest"
   ]
  },
  {
   "cell_type": "code",
   "execution_count": 33,
   "id": "a9d96ada",
   "metadata": {},
   "outputs": [],
   "source": [
    "estimator = RandomSurvivalForest(n_estimators = 1000,\n",
    "                                 min_samples_leaf = 2,\n",
    "                                 max_features = \"sqrt\",\n",
    "                                 max_samples = 0.1,\n",
    "                                 bootstrap = True,\n",
    "                                 n_jobs = 7,\n",
    "                                 verbose = 1,\n",
    "                                 random_state = 56)"
   ]
  },
  {
   "cell_type": "code",
   "execution_count": 34,
   "id": "df0eb318",
   "metadata": {},
   "outputs": [
    {
     "name": "stderr",
     "output_type": "stream",
     "text": [
      "/opt/anaconda3/envs/surv/lib/python3.9/site-packages/sklearn/base.py:566: FutureWarning: Arrays of bytes/strings is being converted to decimal numbers if dtype='numeric'. This behavior is deprecated in 0.24 and will be removed in 1.1 (renaming of 0.26). Please convert your data to numeric values explicitly instead.\n",
      "  X = check_array(X, **check_params)\n",
      "[Parallel(n_jobs=7)]: Using backend ThreadingBackend with 7 concurrent workers.\n",
      "[Parallel(n_jobs=7)]: Done  36 tasks      | elapsed:    0.2s\n",
      "[Parallel(n_jobs=7)]: Done 186 tasks      | elapsed:    1.2s\n",
      "[Parallel(n_jobs=7)]: Done 436 tasks      | elapsed:    2.8s\n",
      "[Parallel(n_jobs=7)]: Done 786 tasks      | elapsed:    5.1s\n",
      "[Parallel(n_jobs=7)]: Done 1000 out of 1000 | elapsed:    6.5s finished\n"
     ]
    },
    {
     "data": {
      "text/plain": [
       "RandomSurvivalForest(max_features='sqrt', max_samples=0.1, min_samples_leaf=2,\n",
       "                     n_estimators=1000, n_jobs=7, random_state=56, verbose=1)"
      ]
     },
     "execution_count": 34,
     "metadata": {},
     "output_type": "execute_result"
    }
   ],
   "source": [
    "estimator.fit(X_train, y_train)"
   ]
  },
  {
   "cell_type": "code",
   "execution_count": 35,
   "id": "eefb3ba5",
   "metadata": {},
   "outputs": [
    {
     "name": "stdout",
     "output_type": "stream",
     "text": [
      "Train Score:  0.9431314726537451\n",
      "Test Score:  0.9341228183968148\n"
     ]
    }
   ],
   "source": [
    "estimator.verbose = 0\n",
    "print(\"Train Score: \", estimator.score(X_train, y_train))\n",
    "print(\"Test Score: \", estimator.score(X_test, y_test))\n",
    "#Train Score:  0.9431387630037822\n",
    "#Test Score:  0.9341502599463144\n"
   ]
  },
  {
   "cell_type": "markdown",
   "id": "26b0b23c",
   "metadata": {},
   "source": [
    "## Gradient Boosted Tree Models"
   ]
  },
  {
   "cell_type": "code",
   "execution_count": null,
   "id": "e86a0a19",
   "metadata": {},
   "outputs": [],
   "source": []
  }
 ],
 "metadata": {
  "kernelspec": {
   "display_name": "Python 3 (ipykernel)",
   "language": "python",
   "name": "python3"
  },
  "language_info": {
   "codemirror_mode": {
    "name": "ipython",
    "version": 3
   },
   "file_extension": ".py",
   "mimetype": "text/x-python",
   "name": "python",
   "nbconvert_exporter": "python",
   "pygments_lexer": "ipython3",
   "version": "3.9.7"
  },
  "toc": {
   "base_numbering": 1,
   "nav_menu": {},
   "number_sections": true,
   "sideBar": true,
   "skip_h1_title": false,
   "title_cell": "Table of Contents",
   "title_sidebar": "Contents",
   "toc_cell": false,
   "toc_position": {
    "height": "calc(100% - 180px)",
    "left": "10px",
    "top": "150px",
    "width": "288px"
   },
   "toc_section_display": true,
   "toc_window_display": true
  }
 },
 "nbformat": 4,
 "nbformat_minor": 5
}
