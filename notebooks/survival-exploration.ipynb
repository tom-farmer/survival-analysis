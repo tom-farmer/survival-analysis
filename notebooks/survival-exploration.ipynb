{
 "cells": [
  {
   "cell_type": "markdown",
   "id": "d41d22c8-2f9b-400c-8a7b-2c47161b2935",
   "metadata": {},
   "source": [
    "# Survival Analysis Exploration"
   ]
  },
  {
   "cell_type": "markdown",
   "id": "e0125e74-e413-46b5-896c-895301071ee8",
   "metadata": {},
   "source": [
    "## Imports"
   ]
  },
  {
   "cell_type": "code",
   "execution_count": 5,
   "id": "adb67953-fb95-4381-a290-79ec4cf17145",
   "metadata": {},
   "outputs": [],
   "source": [
    "import pandas\n",
    "\n",
    "from sksurv.datasets import load_breast_cancer"
   ]
  },
  {
   "cell_type": "code",
   "execution_count": null,
   "id": "51a52570-9bfd-4134-a5ef-8b73bb5eb4bb",
   "metadata": {},
   "outputs": [],
   "source": []
  }
 ],
 "metadata": {
  "kernelspec": {
   "display_name": "Python 3 (ipykernel)",
   "language": "python",
   "name": "python3"
  },
  "language_info": {
   "codemirror_mode": {
    "name": "ipython",
    "version": 3
   },
   "file_extension": ".py",
   "mimetype": "text/x-python",
   "name": "python",
   "nbconvert_exporter": "python",
   "pygments_lexer": "ipython3",
   "version": "3.9.7"
  }
 },
 "nbformat": 4,
 "nbformat_minor": 5
}
